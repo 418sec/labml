{
 "cells": [
  {
   "cell_type": "code",
   "execution_count": 1,
   "metadata": {},
   "outputs": [],
   "source": [
    "from lab import logger, util\n",
    "from lab import analytics"
   ]
  },
  {
   "cell_type": "code",
   "execution_count": 2,
   "metadata": {},
   "outputs": [],
   "source": [
    "a = analytics.Analyzer('mnist_loop')"
   ]
  },
  {
   "cell_type": "code",
   "execution_count": 4,
   "metadata": {},
   "outputs": [],
   "source": [
    "a.load_tensorboard()"
   ]
  },
  {
   "cell_type": "code",
   "execution_count": 8,
   "metadata": {},
   "outputs": [
    {
     "data": {
      "text/plain": [
       "{'images': [],\n",
       " 'audio': [],\n",
       " 'histograms': [],\n",
       " 'scalars': [],\n",
       " 'distributions': [],\n",
       " 'tensors': ['train_loss',\n",
       "  'train_loss/mean',\n",
       "  'model/conv1/weight',\n",
       "  'model/conv1/weight/mean',\n",
       "  'model/conv1/weight/grad',\n",
       "  'model/conv1/weight/grad/mean',\n",
       "  'model/conv1/bias',\n",
       "  'model/conv1/bias/mean',\n",
       "  'model/conv1/bias/grad',\n",
       "  'model/conv1/bias/grad/mean',\n",
       "  'model/conv2/weight',\n",
       "  'model/conv2/weight/mean',\n",
       "  'model/conv2/weight/grad',\n",
       "  'model/conv2/weight/grad/mean',\n",
       "  'model/conv2/bias',\n",
       "  'model/conv2/bias/mean',\n",
       "  'model/conv2/bias/grad',\n",
       "  'model/conv2/bias/grad/mean',\n",
       "  'model/fc1/weight',\n",
       "  'model/fc1/weight/mean',\n",
       "  'model/fc1/weight/grad',\n",
       "  'model/fc1/weight/grad/mean',\n",
       "  'model/fc1/bias',\n",
       "  'model/fc1/bias/mean',\n",
       "  'model/fc1/bias/grad',\n",
       "  'model/fc1/bias/grad/mean',\n",
       "  'model/fc2/weight',\n",
       "  'model/fc2/weight/mean',\n",
       "  'model/fc2/weight/grad',\n",
       "  'model/fc2/weight/grad/mean',\n",
       "  'model/fc2/bias',\n",
       "  'model/fc2/bias/mean',\n",
       "  'model/fc2/bias/grad',\n",
       "  'model/fc2/bias/grad/mean',\n",
       "  'test_loss',\n",
       "  'test_loss/mean',\n",
       "  'accuracy',\n",
       "  'accuracy/mean'],\n",
       " 'graph': False,\n",
       " 'meta_graph': False,\n",
       " 'run_metadata': []}"
      ]
     },
     "execution_count": 8,
     "metadata": {},
     "output_type": "execute_result"
    }
   ],
   "source": [
    "a.event_acc.Tags()"
   ]
  },
  {
   "cell_type": "code",
   "execution_count": 10,
   "metadata": {},
   "outputs": [
    {
     "data": {
      "text/html": [
       "<pre><span style=\"color: #60C6C8\"> 0: </span><strong>train_loss</strong>\n",
       "<span style=\"color: #60C6C8\"> 1: </span><strong>train_loss/mean</strong>\n",
       "<span style=\"color: #60C6C8\"> 2: </span><strong>model/conv1/weight</strong>\n",
       "<span style=\"color: #60C6C8\"> 3: </span><strong>model/conv1/weight/mean</strong>\n",
       "<span style=\"color: #60C6C8\"> 4: </span><strong>model/conv1/weight/grad</strong>\n",
       "<span style=\"color: #60C6C8\"> 5: </span><strong>model/conv1/weight/grad/mean</strong>\n",
       "<span style=\"color: #60C6C8\"> 6: </span><strong>model/conv1/bias</strong>\n",
       "<span style=\"color: #60C6C8\"> 7: </span><strong>model/conv1/bias/mean</strong>\n",
       "<span style=\"color: #60C6C8\"> 8: </span><strong>model/conv1/bias/grad</strong>\n",
       "<span style=\"color: #60C6C8\"> 9: </span><strong>model/conv1/bias/grad/mean</strong>\n",
       "<span style=\"color: #60C6C8\">10: </span><strong>model/conv2/weight</strong>\n",
       "<span style=\"color: #60C6C8\">11: </span><strong>model/conv2/weight/mean</strong>\n",
       "<span style=\"color: #60C6C8\">12: </span><strong>model/conv2/weight/grad</strong>\n",
       "<span style=\"color: #60C6C8\">13: </span><strong>model/conv2/weight/grad/mean</strong>\n",
       "<span style=\"color: #60C6C8\">14: </span><strong>model/conv2/bias</strong>\n",
       "<span style=\"color: #60C6C8\">15: </span><strong>model/conv2/bias/mean</strong>\n",
       "<span style=\"color: #60C6C8\">16: </span><strong>model/conv2/bias/grad</strong>\n",
       "<span style=\"color: #60C6C8\">17: </span><strong>model/conv2/bias/grad/mean</strong>\n",
       "<span style=\"color: #60C6C8\">18: </span><strong>model/fc1/weight</strong>\n",
       "<span style=\"color: #60C6C8\">19: </span><strong>model/fc1/weight/mean</strong>\n",
       "<span style=\"color: #60C6C8\">20: </span><strong>model/fc1/weight/grad</strong>\n",
       "<span style=\"color: #60C6C8\">21: </span><strong>model/fc1/weight/grad/mean</strong>\n",
       "<span style=\"color: #60C6C8\">22: </span><strong>model/fc1/bias</strong>\n",
       "<span style=\"color: #60C6C8\">23: </span><strong>model/fc1/bias/mean</strong>\n",
       "<span style=\"color: #60C6C8\">24: </span><strong>model/fc1/bias/grad</strong>\n",
       "<span style=\"color: #60C6C8\">25: </span><strong>model/fc1/bias/grad/mean</strong>\n",
       "<span style=\"color: #60C6C8\">26: </span><strong>model/fc2/weight</strong>\n",
       "<span style=\"color: #60C6C8\">27: </span><strong>model/fc2/weight/mean</strong>\n",
       "<span style=\"color: #60C6C8\">28: </span><strong>model/fc2/weight/grad</strong>\n",
       "<span style=\"color: #60C6C8\">29: </span><strong>model/fc2/weight/grad/mean</strong>\n",
       "<span style=\"color: #60C6C8\">30: </span><strong>model/fc2/bias</strong>\n",
       "<span style=\"color: #60C6C8\">31: </span><strong>model/fc2/bias/mean</strong>\n",
       "<span style=\"color: #60C6C8\">32: </span><strong>model/fc2/bias/grad</strong>\n",
       "<span style=\"color: #60C6C8\">33: </span><strong>model/fc2/bias/grad/mean</strong>\n",
       "<span style=\"color: #60C6C8\">34: </span><strong>test_loss</strong>\n",
       "<span style=\"color: #60C6C8\">35: </span><strong>test_loss/mean</strong>\n",
       "<span style=\"color: #60C6C8\">36: </span><strong>accuracy</strong>\n",
       "<span style=\"color: #60C6C8\">37: </span><strong>accuracy/mean</strong>\n",
       "Total <span style=\"color: #208FFB\">38</span> item(s)</pre>"
      ],
      "text/plain": [
       "<IPython.core.display.HTML object>"
      ]
     },
     "metadata": {},
     "output_type": "display_data"
    }
   ],
   "source": [
    "logger.info(a.tensor())"
   ]
  },
  {
   "cell_type": "code",
   "execution_count": 17,
   "metadata": {},
   "outputs": [],
   "source": [
    "import matplotlib.pyplot as plt\n",
    "import seaborn as sns"
   ]
  },
  {
   "cell_type": "code",
   "execution_count": 25,
   "metadata": {},
   "outputs": [],
   "source": [
    "e = a.tensor('accuracy/mean')[0]"
   ]
  },
  {
   "cell_type": "code",
   "execution_count": 28,
   "metadata": {},
   "outputs": [
    {
     "data": {
      "text/plain": [
       "TensorEvent(wall_time=1578115164.843276, step=938, tensor_proto=dtype: DT_FLOAT\n",
       "tensor_shape {\n",
       "}\n",
       "tensor_content: \"\\007_x?\"\n",
       ")"
      ]
     },
     "execution_count": 28,
     "metadata": {},
     "output_type": "execute_result"
    }
   ],
   "source": [
    "e"
   ]
  },
  {
   "cell_type": "code",
   "execution_count": 35,
   "metadata": {},
   "outputs": [],
   "source": [
    "import tensorflow as tf"
   ]
  },
  {
   "cell_type": "code",
   "execution_count": 36,
   "metadata": {},
   "outputs": [
    {
     "data": {
      "text/plain": [
       "array(0.9702, dtype=float32)"
      ]
     },
     "execution_count": 36,
     "metadata": {},
     "output_type": "execute_result"
    }
   ],
   "source": [
    "tf.make_ndarray(e.tensor_proto)"
   ]
  },
  {
   "cell_type": "code",
   "execution_count": 49,
   "metadata": {},
   "outputs": [
    {
     "data": {
      "text/plain": [
       "array([[-4.70585525e-02, -4.41074430e-02,  2.00000000e+00],\n",
       "       [-4.41074430e-02, -4.11563334e-02,  1.00000000e+00],\n",
       "       [-4.11563334e-02, -3.82052239e-02,  1.00000000e+00],\n",
       "       [-3.82052239e-02, -3.52541144e-02,  0.00000000e+00],\n",
       "       [-3.52541144e-02, -3.23030048e-02,  2.00000000e+00],\n",
       "       [-3.23030048e-02, -2.93518953e-02,  0.00000000e+00],\n",
       "       [-2.93518953e-02, -2.64007858e-02,  1.00000000e+00],\n",
       "       [-2.64007858e-02, -2.34496762e-02,  0.00000000e+00],\n",
       "       [-2.34496762e-02, -2.04985667e-02,  1.00000000e+00],\n",
       "       [-2.04985667e-02, -1.75474572e-02,  3.00000000e+00],\n",
       "       [-1.75474572e-02, -1.45963476e-02,  2.00000000e+00],\n",
       "       [-1.45963476e-02, -1.16452381e-02,  4.00000000e+00],\n",
       "       [-1.16452381e-02, -8.69412857e-03,  1.00000000e+00],\n",
       "       [-8.69412857e-03, -5.74301903e-03,  2.00000000e+00],\n",
       "       [-5.74301903e-03, -2.79190950e-03,  2.00000000e+00],\n",
       "       [-2.79190950e-03,  1.59200033e-04,  2.00000000e+00],\n",
       "       [ 1.59200033e-04,  3.11030957e-03,  0.00000000e+00],\n",
       "       [ 3.11030957e-03,  6.06141910e-03,  0.00000000e+00],\n",
       "       [ 6.06141910e-03,  9.01252863e-03,  0.00000000e+00],\n",
       "       [ 9.01252863e-03,  1.19636382e-02,  1.00000000e+00],\n",
       "       [ 1.19636382e-02,  1.49147477e-02,  1.00000000e+00],\n",
       "       [ 1.49147477e-02,  1.78658572e-02,  1.00000000e+00],\n",
       "       [ 1.78658572e-02,  2.08169668e-02,  1.00000000e+00],\n",
       "       [ 2.08169668e-02,  2.37680763e-02,  2.00000000e+00],\n",
       "       [ 2.37680763e-02,  2.67191858e-02,  6.00000000e+00],\n",
       "       [ 2.67191858e-02,  2.96702954e-02,  1.00000000e+00],\n",
       "       [ 2.96702954e-02,  3.26214049e-02,  1.00000000e+00],\n",
       "       [ 3.26214049e-02,  3.55725144e-02,  6.00000000e+00],\n",
       "       [ 3.55725144e-02,  3.85236240e-02,  3.00000000e+00],\n",
       "       [ 3.85236240e-02,  4.14747335e-02,  3.00000000e+00]])"
      ]
     },
     "execution_count": 49,
     "metadata": {},
     "output_type": "execute_result"
    }
   ],
   "source": [
    "tf.make_ndarray(a.tensor('model/conv2/bias')[0].tensor_proto)"
   ]
  },
  {
   "cell_type": "code",
   "execution_count": 48,
   "metadata": {},
   "outputs": [
    {
     "data": {
      "text/plain": [
       "TensorEvent(wall_time=1578115126.043051, step=241, tensor_proto=dtype: DT_DOUBLE\n",
       "tensor_shape {\n",
       "  dim {\n",
       "    size: 30\n",
       "  }\n",
       "  dim {\n",
       "    size: 3\n",
       "  }\n",
       "}\n",
       "tensor_content: \"\\000\\000\\000\\300\\245\\016\\305?\\357\\356\\356.UA\\306?\\000\\000\\000\\000\\000\\000\\000@\\357\\356\\356.UA\\306?\\336\\335\\335\\235\\004t\\307?\\000\\000\\000\\000\\000\\000\\000\\000\\336\\335\\335\\235\\004t\\307?\\315\\314\\314\\014\\264\\246\\310?\\000\\000\\000\\000\\000\\000\\000\\000\\315\\314\\314\\014\\264\\246\\310?\\274\\273\\273{c\\331\\311?\\000\\000\\000\\000\\000\\000\\360?\\274\\273\\273{c\\331\\311?\\253\\252\\252\\352\\022\\014\\313?\\000\\000\\000\\000\\000\\000\\000\\000\\253\\252\\252\\352\\022\\014\\313?\\232\\231\\231Y\\302>\\314?\\000\\000\\000\\000\\000\\000\\000\\000\\232\\231\\231Y\\302>\\314?\\210\\210\\210\\310qq\\315?\\000\\000\\000\\000\\000\\000\\000\\000\\210\\210\\210\\310qq\\315?xww7!\\244\\316?\\000\\000\\000\\000\\000\\000\\360?xww7!\\244\\316?fff\\246\\320\\326\\317?\\000\\000\\000\\000\\000\\000\\020@fff\\246\\320\\326\\317?\\253\\252\\252\\n\\300\\204\\320?\\000\\000\\000\\000\\000\\000\\000@\\253\\252\\252\\n\\300\\204\\320?\\\"\\\"\\\"\\302\\027\\036\\321?\\000\\000\\000\\000\\000\\000\\360?\\\"\\\"\\\"\\302\\027\\036\\321?\\232\\231\\231yo\\267\\321?\\000\\000\\000\\000\\000\\000\\000\\000\\232\\231\\231yo\\267\\321?\\021\\021\\0211\\307P\\322?\\000\\000\\000\\000\\000\\000\\000\\000\\021\\021\\0211\\307P\\322?\\210\\210\\210\\350\\036\\352\\322?\\000\\000\\000\\000\\000\\000\\010@\\210\\210\\210\\350\\036\\352\\322?\\000\\000\\000\\240v\\203\\323?\\000\\000\\000\\000\\000\\000\\000\\000\\000\\000\\000\\240v\\203\\323?xwwW\\316\\034\\324?\\000\\000\\000\\000\\000\\000\\000\\000xwwW\\316\\034\\324?\\357\\356\\356\\016&\\266\\324?\\000\\000\\000\\000\\000\\000\\000\\000\\357\\356\\356\\016&\\266\\324?fff\\306}O\\325?\\000\\000\\000\\000\\000\\000\\360?fff\\306}O\\325?\\336\\335\\335}\\325\\350\\325?\\000\\000\\000\\000\\000\\000\\000\\000\\336\\335\\335}\\325\\350\\325?VUU5-\\202\\326?\\000\\000\\000\\000\\000\\000\\000\\000VUU5-\\202\\326?\\315\\314\\314\\354\\204\\033\\327?\\000\\000\\000\\000\\000\\000\\360?\\315\\314\\314\\354\\204\\033\\327?DDD\\244\\334\\264\\327?\\000\\000\\000\\000\\000\\000\\000\\000DDD\\244\\334\\264\\327?\\274\\273\\273[4N\\330?\\000\\000\\000\\000\\000\\000\\000\\000\\274\\273\\273[4N\\330?333\\023\\214\\347\\330?\\000\\000\\000\\000\\000\\000\\000\\000333\\023\\214\\347\\330?\\252\\252\\252\\312\\343\\200\\331?\\000\\000\\000\\000\\000\\000\\000\\000\\252\\252\\252\\312\\343\\200\\331?\\\"\\\"\\\"\\202;\\032\\332?\\000\\000\\000\\000\\000\\000\\000\\000\\\"\\\"\\\"\\202;\\032\\332?\\232\\231\\2319\\223\\263\\332?\\000\\000\\000\\000\\000\\000\\360?\\232\\231\\2319\\223\\263\\332?\\021\\021\\021\\361\\352L\\333?\\000\\000\\000\\000\\000\\000\\000\\000\\021\\021\\021\\361\\352L\\333?\\211\\210\\210\\250B\\346\\333?\\000\\000\\000\\000\\000\\000\\360?\\211\\210\\210\\250B\\346\\333?\\000\\000\\000`\\232\\177\\334?\\000\\000\\000\\000\\000\\000\\000@\"\n",
       ")"
      ]
     },
     "execution_count": 48,
     "metadata": {},
     "output_type": "execute_result"
    }
   ],
   "source": [
    "a.tensor('train_loss')[2]"
   ]
  },
  {
   "cell_type": "code",
   "execution_count": 19,
   "metadata": {},
   "outputs": [
    {
     "ename": "KeyError",
     "evalue": "'Key test_loss was not found in Reservoir'",
     "output_type": "error",
     "traceback": [
      "\u001b[0;31m---------------------------------------------------------------------------\u001b[0m",
      "\u001b[0;31mKeyError\u001b[0m                                  Traceback (most recent call last)",
      "\u001b[0;32m<ipython-input-19-5b9ad8e8914b>\u001b[0m in \u001b[0;36m<module>\u001b[0;34m\u001b[0m\n\u001b[1;32m      1\u001b[0m \u001b[0m_\u001b[0m\u001b[0;34m,\u001b[0m \u001b[0max\u001b[0m \u001b[0;34m=\u001b[0m \u001b[0mplt\u001b[0m\u001b[0;34m.\u001b[0m\u001b[0msubplots\u001b[0m\u001b[0;34m(\u001b[0m\u001b[0mfigsize\u001b[0m\u001b[0;34m=\u001b[0m\u001b[0;34m(\u001b[0m\u001b[0;36m18\u001b[0m\u001b[0;34m,\u001b[0m\u001b[0;36m9\u001b[0m\u001b[0;34m)\u001b[0m\u001b[0;34m)\u001b[0m\u001b[0;34m\u001b[0m\u001b[0;34m\u001b[0m\u001b[0m\n\u001b[1;32m      2\u001b[0m \u001b[0;34m\u001b[0m\u001b[0m\n\u001b[0;32m----> 3\u001b[0;31m \u001b[0mln1\u001b[0m \u001b[0;34m=\u001b[0m \u001b[0ma\u001b[0m\u001b[0;34m.\u001b[0m\u001b[0mrender_scalar\u001b[0m\u001b[0;34m(\u001b[0m\u001b[0;34m'test_loss'\u001b[0m\u001b[0;34m,\u001b[0m \u001b[0max\u001b[0m\u001b[0;34m,\u001b[0m \u001b[0msns\u001b[0m\u001b[0;34m.\u001b[0m\u001b[0mcolor_palette\u001b[0m\u001b[0;34m(\u001b[0m\u001b[0;34m)\u001b[0m\u001b[0;34m[\u001b[0m\u001b[0;36m0\u001b[0m\u001b[0;34m]\u001b[0m\u001b[0;34m)\u001b[0m\u001b[0;34m\u001b[0m\u001b[0;34m\u001b[0m\u001b[0m\n\u001b[0m\u001b[1;32m      4\u001b[0m \u001b[0max2\u001b[0m \u001b[0;34m=\u001b[0m \u001b[0mplt\u001b[0m\u001b[0;34m.\u001b[0m\u001b[0mtwinx\u001b[0m\u001b[0;34m(\u001b[0m\u001b[0;34m)\u001b[0m\u001b[0;34m\u001b[0m\u001b[0;34m\u001b[0m\u001b[0m\n\u001b[1;32m      5\u001b[0m \u001b[0mln2\u001b[0m \u001b[0;34m=\u001b[0m \u001b[0ma\u001b[0m\u001b[0;34m.\u001b[0m\u001b[0mrender_histogram\u001b[0m\u001b[0;34m(\u001b[0m\u001b[0;34m'accuracy'\u001b[0m\u001b[0;34m,\u001b[0m \u001b[0max2\u001b[0m\u001b[0;34m,\u001b[0m \u001b[0msns\u001b[0m\u001b[0;34m.\u001b[0m\u001b[0mcolor_palette\u001b[0m\u001b[0;34m(\u001b[0m\u001b[0;34m)\u001b[0m\u001b[0;34m[\u001b[0m\u001b[0;36m1\u001b[0m\u001b[0;34m]\u001b[0m\u001b[0;34m,\u001b[0m \u001b[0mlevels\u001b[0m\u001b[0;34m=\u001b[0m\u001b[0;36m2\u001b[0m\u001b[0;34m)\u001b[0m\u001b[0;34m\u001b[0m\u001b[0;34m\u001b[0m\u001b[0m\n",
      "\u001b[0;32m~/ml/lab3/lab/analytics/__init__.py\u001b[0m in \u001b[0;36mrender_scalar\u001b[0;34m(self, name, ax, color, levels, line_width, alpha)\u001b[0m\n\u001b[1;32m    198\u001b[0m         \u001b[0;31m## Summarize and render a scalar\u001b[0m\u001b[0;34m\u001b[0m\u001b[0;34m\u001b[0m\u001b[0;34m\u001b[0m\u001b[0m\n\u001b[1;32m    199\u001b[0m         \"\"\"\n\u001b[0;32m--> 200\u001b[0;31m         \u001b[0mdata\u001b[0m \u001b[0;34m=\u001b[0m \u001b[0mself\u001b[0m\u001b[0;34m.\u001b[0m\u001b[0msummarize_series\u001b[0m\u001b[0;34m(\u001b[0m\u001b[0mself\u001b[0m\u001b[0;34m.\u001b[0m\u001b[0mscalar\u001b[0m\u001b[0;34m(\u001b[0m\u001b[0mname\u001b[0m\u001b[0;34m)\u001b[0m\u001b[0;34m)\u001b[0m\u001b[0;34m\u001b[0m\u001b[0;34m\u001b[0m\u001b[0m\n\u001b[0m\u001b[1;32m    201\u001b[0m         self.render_density(ax, data, color, name,\n\u001b[1;32m    202\u001b[0m                             \u001b[0mlevels\u001b[0m\u001b[0;34m=\u001b[0m\u001b[0mlevels\u001b[0m\u001b[0;34m,\u001b[0m\u001b[0;34m\u001b[0m\u001b[0;34m\u001b[0m\u001b[0m\n",
      "\u001b[0;32m~/ml/lab3/lab/analytics/__init__.py\u001b[0m in \u001b[0;36mscalar\u001b[0;34m(self, name)\u001b[0m\n\u001b[1;32m     86\u001b[0m             \u001b[0;32mreturn\u001b[0m \u001b[0mself\u001b[0m\u001b[0;34m.\u001b[0m\u001b[0mevent_acc\u001b[0m\u001b[0;34m.\u001b[0m\u001b[0mTags\u001b[0m\u001b[0;34m(\u001b[0m\u001b[0;34m)\u001b[0m\u001b[0;34m[\u001b[0m\u001b[0;34m'scalars'\u001b[0m\u001b[0;34m]\u001b[0m\u001b[0;34m\u001b[0m\u001b[0;34m\u001b[0m\u001b[0m\n\u001b[1;32m     87\u001b[0m \u001b[0;34m\u001b[0m\u001b[0m\n\u001b[0;32m---> 88\u001b[0;31m         \u001b[0;32mreturn\u001b[0m \u001b[0mself\u001b[0m\u001b[0;34m.\u001b[0m\u001b[0mevent_acc\u001b[0m\u001b[0;34m.\u001b[0m\u001b[0mScalars\u001b[0m\u001b[0;34m(\u001b[0m\u001b[0mname\u001b[0m\u001b[0;34m)\u001b[0m\u001b[0;34m\u001b[0m\u001b[0;34m\u001b[0m\u001b[0m\n\u001b[0m\u001b[1;32m     89\u001b[0m \u001b[0;34m\u001b[0m\u001b[0m\n\u001b[1;32m     90\u001b[0m     \u001b[0;32mdef\u001b[0m \u001b[0mhistogram\u001b[0m\u001b[0;34m(\u001b[0m\u001b[0mself\u001b[0m\u001b[0;34m,\u001b[0m \u001b[0mname\u001b[0m\u001b[0;34m=\u001b[0m\u001b[0;32mNone\u001b[0m\u001b[0;34m)\u001b[0m\u001b[0;34m:\u001b[0m\u001b[0;34m\u001b[0m\u001b[0;34m\u001b[0m\u001b[0m\n",
      "\u001b[0;32m~/opt/anaconda3/envs/dl3/lib/python3.7/site-packages/tensorboard/backend/event_processing/event_accumulator.py\u001b[0m in \u001b[0;36mScalars\u001b[0;34m(self, tag)\u001b[0m\n\u001b[1;32m    436\u001b[0m       \u001b[0mAn\u001b[0m \u001b[0marray\u001b[0m \u001b[0mof\u001b[0m\u001b[0;31m \u001b[0m\u001b[0;31m`\u001b[0m\u001b[0mScalarEvent\u001b[0m\u001b[0;31m`\u001b[0m\u001b[0ms\u001b[0m\u001b[0;34m.\u001b[0m\u001b[0;34m\u001b[0m\u001b[0;34m\u001b[0m\u001b[0m\n\u001b[1;32m    437\u001b[0m     \"\"\"\n\u001b[0;32m--> 438\u001b[0;31m     \u001b[0;32mreturn\u001b[0m \u001b[0mself\u001b[0m\u001b[0;34m.\u001b[0m\u001b[0mscalars\u001b[0m\u001b[0;34m.\u001b[0m\u001b[0mItems\u001b[0m\u001b[0;34m(\u001b[0m\u001b[0mtag\u001b[0m\u001b[0;34m)\u001b[0m\u001b[0;34m\u001b[0m\u001b[0;34m\u001b[0m\u001b[0m\n\u001b[0m\u001b[1;32m    439\u001b[0m \u001b[0;34m\u001b[0m\u001b[0m\n\u001b[1;32m    440\u001b[0m   \u001b[0;32mdef\u001b[0m \u001b[0mGraph\u001b[0m\u001b[0;34m(\u001b[0m\u001b[0mself\u001b[0m\u001b[0;34m)\u001b[0m\u001b[0;34m:\u001b[0m\u001b[0;34m\u001b[0m\u001b[0;34m\u001b[0m\u001b[0m\n",
      "\u001b[0;32m~/opt/anaconda3/envs/dl3/lib/python3.7/site-packages/tensorboard/backend/event_processing/reservoir.py\u001b[0m in \u001b[0;36mItems\u001b[0;34m(self, key)\u001b[0m\n\u001b[1;32m    108\u001b[0m     \u001b[0;32mwith\u001b[0m \u001b[0mself\u001b[0m\u001b[0;34m.\u001b[0m\u001b[0m_mutex\u001b[0m\u001b[0;34m:\u001b[0m\u001b[0;34m\u001b[0m\u001b[0;34m\u001b[0m\u001b[0m\n\u001b[1;32m    109\u001b[0m       \u001b[0;32mif\u001b[0m \u001b[0mkey\u001b[0m \u001b[0;32mnot\u001b[0m \u001b[0;32min\u001b[0m \u001b[0mself\u001b[0m\u001b[0;34m.\u001b[0m\u001b[0m_buckets\u001b[0m\u001b[0;34m:\u001b[0m\u001b[0;34m\u001b[0m\u001b[0;34m\u001b[0m\u001b[0m\n\u001b[0;32m--> 110\u001b[0;31m         \u001b[0;32mraise\u001b[0m \u001b[0mKeyError\u001b[0m\u001b[0;34m(\u001b[0m\u001b[0;34m'Key %s was not found in Reservoir'\u001b[0m \u001b[0;34m%\u001b[0m \u001b[0mkey\u001b[0m\u001b[0;34m)\u001b[0m\u001b[0;34m\u001b[0m\u001b[0;34m\u001b[0m\u001b[0m\n\u001b[0m\u001b[1;32m    111\u001b[0m       \u001b[0mbucket\u001b[0m \u001b[0;34m=\u001b[0m \u001b[0mself\u001b[0m\u001b[0;34m.\u001b[0m\u001b[0m_buckets\u001b[0m\u001b[0;34m[\u001b[0m\u001b[0mkey\u001b[0m\u001b[0;34m]\u001b[0m\u001b[0;34m\u001b[0m\u001b[0;34m\u001b[0m\u001b[0m\n\u001b[1;32m    112\u001b[0m     \u001b[0;32mreturn\u001b[0m \u001b[0mbucket\u001b[0m\u001b[0;34m.\u001b[0m\u001b[0mItems\u001b[0m\u001b[0;34m(\u001b[0m\u001b[0;34m)\u001b[0m\u001b[0;34m\u001b[0m\u001b[0;34m\u001b[0m\u001b[0m\n",
      "\u001b[0;31mKeyError\u001b[0m: 'Key test_loss was not found in Reservoir'"
     ]
    },
    {
     "data": {
      "image/png": "[encoded data removed]",
      "text/plain": [
       "<Figure size 1296x648 with 1 Axes>"
      ]
     },
     "metadata": {
      "needs_background": "light"
     },
     "output_type": "display_data"
    }
   ],
   "source": [
    "_, ax = plt.subplots(figsize=(18,9))\n",
    "\n",
    "ln1 = a.render_scalar('test_loss', ax, sns.color_palette()[0])\n",
    "ax2 = plt.twinx()\n",
    "ln2 = a.render_histogram('accuracy', ax2, sns.color_palette()[1], levels=2)\n",
    "# ax.set_ylim(-0.005, 0.05)\n",
    "# ax2.set_ylim(-1, 10)\n",
    "ax.set_title(\"Rewards and intrinsic reward\")\n",
    "ax.set_xlabel(\"time step\")\n",
    "ax.set_ylabel(\"reward\")"
   ]
  },
  {
   "cell_type": "code",
   "execution_count": 3,
   "metadata": {},
   "outputs": [
    {
     "data": {
      "text/plain": [
       "<Lab path=/Users/varuna/ml/lab3>"
      ]
     },
     "execution_count": 3,
     "metadata": {},
     "output_type": "execute_result"
    }
   ],
   "source": [
    "analytics.get_lab()"
   ]
  },
  {
   "cell_type": "code",
   "execution_count": 4,
   "metadata": {},
   "outputs": [],
   "source": [
    "run_info = analytics.get_run_info('mnist_loop')"
   ]
  },
  {
   "cell_type": "code",
   "execution_count": 5,
   "metadata": {},
   "outputs": [],
   "source": [
    "import sqlite3"
   ]
  },
  {
   "cell_type": "code",
   "execution_count": 6,
   "metadata": {},
   "outputs": [],
   "source": [
    "conn = sqlite3.connect(str(run_info.sqlite_path))\n"
   ]
  },
  {
   "cell_type": "code",
   "execution_count": 7,
   "metadata": {},
   "outputs": [],
   "source": [
    "cur = conn.execute('SELECT MAX(step) FROM scalars')"
   ]
  },
  {
   "cell_type": "code",
   "execution_count": 8,
   "metadata": {},
   "outputs": [
    {
     "name": "stdout",
     "output_type": "stream",
     "text": [
      "(1069,)\n"
     ]
    }
   ],
   "source": [
    "for c in cur:\n",
    "    print(c)"
   ]
  },
  {
   "cell_type": "code",
   "execution_count": 9,
   "metadata": {},
   "outputs": [],
   "source": [
    "cur = conn.execute('''SELECT a.* FROM scalars AS a\n",
    "            INNER JOIN (\n",
    "                SELECT indicator, MAX(step) AS step \n",
    "                FROM scalars\n",
    "                GROUP BY indicator\n",
    "            ) b ON a.indicator = b.indicator AND a.step = b.step''')"
   ]
  },
  {
   "cell_type": "code",
   "execution_count": 10,
   "metadata": {},
   "outputs": [
    {
     "name": "stdout",
     "output_type": "stream",
     "text": [
      "('model.conv1.weight.mean', 938, 0.017297202721238136)\n",
      "('model.conv1.weight.grad.mean', 938, 0.003940716851502657)\n",
      "('model.conv1.bias.mean', 938, 0.013700555078685284)\n",
      "('model.conv1.bias.grad.mean', 938, 0.003084353869780898)\n",
      "('model.conv2.weight.mean', 938, 0.0003597914183046669)\n",
      "('model.conv2.weight.grad.mean', 938, 0.0005258394521661103)\n",
      "('model.conv2.bias.mean', 938, 0.005607823841273785)\n",
      "('model.conv2.bias.grad.mean', 938, -0.00011855472985189408)\n",
      "('model.fc1.weight.mean', 938, 0.0001462755462853238)\n",
      "('model.fc1.weight.grad.mean', 938, 7.55108121666126e-05)\n",
      "('model.fc1.bias.mean', 938, 0.0014264597557485104)\n",
      "('model.fc1.bias.grad.mean', 938, 4.218413960188627e-05)\n",
      "('model.fc2.weight.mean', 938, -0.00024156631843652576)\n",
      "('model.fc2.weight.grad.mean', 938, -1.7166137400437265e-09)\n",
      "('model.fc2.bias.mean', 938, -0.0009683702373877168)\n",
      "('model.fc2.bias.grad.mean', 938, -2.2351742678949904e-09)\n",
      "('test_loss.mean', 938, 0.10482116966247558)\n",
      "('accuracy.mean', 938, 0.9702)\n",
      "('train_loss.mean', 1069, 0.08794160187244415)\n"
     ]
    }
   ],
   "source": [
    "for c in cur:\n",
    "    print(c)"
   ]
  },
  {
   "cell_type": "code",
   "execution_count": 11,
   "metadata": {},
   "outputs": [],
   "source": [
    "class F:\n",
    "    def __dir__(self):\n",
    "        return ['a', 'b']"
   ]
  },
  {
   "cell_type": "code",
   "execution_count": 12,
   "metadata": {},
   "outputs": [
    {
     "name": "stdout",
     "output_type": "stream",
     "text": [
      "{'accuracy': {'class_name': 'Histogram', 'name': 'accuracy'}, 'model.conv1.bias': {'class_name': 'Histogram', 'name': 'model.conv1.bias'}, 'model.conv1.bias.grad': {'class_name': 'Histogram', 'name': 'model.conv1.bias.grad'}, 'model.conv1.weight': {'class_name': 'Histogram', 'name': 'model.conv1.weight'}, 'model.conv1.weight.grad': {'class_name': 'Histogram', 'name': 'model.conv1.weight.grad'}, 'model.conv2.bias': {'class_name': 'Histogram', 'name': 'model.conv2.bias'}, 'model.conv2.bias.grad': {'class_name': 'Histogram', 'name': 'model.conv2.bias.grad'}, 'model.conv2.weight': {'class_name': 'Histogram', 'name': 'model.conv2.weight'}, 'model.conv2.weight.grad': {'class_name': 'Histogram', 'name': 'model.conv2.weight.grad'}, 'model.fc1.bias': {'class_name': 'Histogram', 'name': 'model.fc1.bias'}, 'model.fc1.bias.grad': {'class_name': 'Histogram', 'name': 'model.fc1.bias.grad'}, 'model.fc1.weight': {'class_name': 'Histogram', 'name': 'model.fc1.weight'}, 'model.fc1.weight.grad': {'class_name': 'Histogram', 'name': 'model.fc1.weight.grad'}, 'model.fc2.bias': {'class_name': 'Histogram', 'name': 'model.fc2.bias'}, 'model.fc2.bias.grad': {'class_name': 'Histogram', 'name': 'model.fc2.bias.grad'}, 'model.fc2.weight': {'class_name': 'Histogram', 'name': 'model.fc2.weight'}, 'model.fc2.weight.grad': {'class_name': 'Histogram', 'name': 'model.fc2.weight.grad'}, 'test_loss': {'class_name': 'Histogram', 'name': 'test_loss'}, 'train_loss': {'class_name': 'Queue', 'name': 'train_loss', 'queue_size': 20}}\n"
     ]
    }
   ],
   "source": [
    "with open(str(run_info.indicators_path), 'r') as f:\n",
    "    print(util.yaml_load(f.read()))"
   ]
  },
  {
   "cell_type": "code",
   "execution_count": null,
   "metadata": {},
   "outputs": [],
   "source": []
  }
 ],
 "metadata": {
  "kernelspec": {
   "display_name": "dl3",
   "language": "python",
   "name": "dl3"
  },
  "language_info": {
   "codemirror_mode": {
    "name": "ipython",
    "version": 3
   },
   "file_extension": ".py",
   "mimetype": "text/x-python",
   "name": "python",
   "nbconvert_exporter": "python",
   "pygments_lexer": "ipython3",
   "version": "3.7.5"
  }
 },
 "nbformat": 4,
 "nbformat_minor": 2
}
