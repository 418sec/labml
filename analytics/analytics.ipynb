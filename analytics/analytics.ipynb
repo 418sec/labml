{
 "cells": [
  {
   "cell_type": "code",
   "execution_count": 65,
   "metadata": {},
   "outputs": [
    {
     "name": "stdout",
     "output_type": "stream",
     "text": [
      "RunInfo(comment=\"\", commit=\"📚 readme configs\", date=2020-01-04, time=10:48:33)\n"
     ]
    }
   ],
   "source": [
    "from typing import List, Union\n",
    "from typing import Optional\n",
    "\n",
    "import numpy as np\n",
    "import tensorflow as tf\n",
    "from matplotlib.axes import Axes\n",
    "from tensorboard.backend.event_processing.event_accumulator import EventAccumulator\n",
    "\n",
    "from lab import util\n",
    "from lab.experiment import experiment_run\n",
    "from lab.lab import Lab\n",
    "\n",
    "\n",
    "def get_lab():\n",
    "    return Lab('/Users/varuna/ml/lab3')\n",
    "\n",
    "\n",
    "def get_run_info(experiment_name: str, run_index: Optional[int] = None):\n",
    "    lab = get_lab()\n",
    "    experiment_path = lab.experiments / experiment_name\n",
    "    if run_index is None:\n",
    "        run_index = experiment_run.get_last_run_index(experiment_path, None, False)\n",
    "    run_path = experiment_path / str(run_index)\n",
    "    run_info_path = run_path / 'run.yaml'\n",
    "\n",
    "    with open(str(run_info_path), 'r') as f:\n",
    "        data = util.yaml_load(f.read())\n",
    "        run = experiment_run.RunInfo.from_dict(experiment_path, data)\n",
    "\n",
    "    return run\n",
    "\n",
    "\n",
    "class Dir:\n",
    "    def __init__(self, options):\n",
    "        self.__options = {k.replace('.', '_'): k for k in options}\n",
    "        self.__list = [k for k in self.__options.keys()]\n",
    "\n",
    "    def __dir__(self):\n",
    "        return self.__list\n",
    "\n",
    "    def __getattr__(self, k):\n",
    "        return self.__options[k]\n",
    "\n",
    "\n",
    "class TensorBoardAnalyzer:\n",
    "    def __init__(self, log_path):\n",
    "        self.event_acc = EventAccumulator(str(log_path))\n",
    "\n",
    "    def load(self):\n",
    "        \"\"\"\n",
    "    ## Load summaries\n",
    "    \"\"\"\n",
    "        self.event_acc.Reload()\n",
    "\n",
    "    def tensor(self, name):\n",
    "        \"\"\"\n",
    "    ## Get a tensor summary\n",
    "\n",
    "    If 'name' is 'None' it returns a list of all available tensors.\n",
    "    \"\"\"\n",
    "        name = name.replace('.', '/')\n",
    "        return self.event_acc.Tensors(name)\n",
    "\n",
    "    @staticmethod\n",
    "    def summarize(events):\n",
    "        \"\"\"\n",
    "    ## Merge many data points and get a distribution\n",
    "    \"\"\"\n",
    "\n",
    "        step = np.mean([e.step for e in events])\n",
    "        values = np.sort([tf.make_ndarray(e.tensor_proto) for e in events])\n",
    "        basis_points = np.percentile(values, [\n",
    "            0,\n",
    "            6.68,\n",
    "            15.87,\n",
    "            30.85,\n",
    "            50.00,\n",
    "            69.15,\n",
    "            84.13,\n",
    "            93.32,\n",
    "            100.00\n",
    "        ])\n",
    "\n",
    "        return np.concatenate(([step], basis_points))\n",
    "\n",
    "    def summarize_scalars(self, events):\n",
    "        \"\"\"\n",
    "    ### Shrink data points and produce a histogram\n",
    "    \"\"\"\n",
    "\n",
    "        # Shrink to 100 histograms\n",
    "        interval = max(1, len(events) // 100)\n",
    "\n",
    "        merged = []\n",
    "        results = []\n",
    "        for i, e in enumerate(events):\n",
    "            if i > 0 and (i + 1) % interval == 0:\n",
    "                results.append(self.summarize(merged))\n",
    "                merged = []\n",
    "            merged.append(e)\n",
    "        if len(merged) > 0:\n",
    "            results.append(self.summarize(merged))\n",
    "\n",
    "        return np.array(results)\n",
    "\n",
    "    @staticmethod\n",
    "    def summarize_compressed_histogram(events):\n",
    "        \"\"\"\n",
    "    ## Convert a TensorBoard histogram to our format\n",
    "    \"\"\"\n",
    "        basis_points = [\n",
    "            0,\n",
    "            668,\n",
    "            1587,\n",
    "            3085,\n",
    "            5000,\n",
    "            6915,\n",
    "            8413,\n",
    "            9332,\n",
    "            10000\n",
    "        ]\n",
    "        results = []\n",
    "        for e in events:\n",
    "            assert (len(e.compressed_histogram_values) == len(basis_points))\n",
    "            for i, c in enumerate(e.compressed_histogram_values):\n",
    "                assert (c.basis_point == basis_points[i])\n",
    "            results.append([e.step] + [c.value for c in e.compressed_histogram_values])\n",
    "\n",
    "        return np.asarray(results)\n",
    "\n",
    "    @staticmethod\n",
    "    def render_density(ax: Axes, data, color, name, *,\n",
    "                       levels=5,\n",
    "                       line_width=1,\n",
    "                       alpha=0.6):\n",
    "        \"\"\"\n",
    "    ## Render a density plot from data\n",
    "    \"\"\"\n",
    "\n",
    "        # Mean line\n",
    "        ln = ax.plot(data[:, 0], data[:, 5],\n",
    "                     lw=line_width,\n",
    "                     color=color,\n",
    "                     alpha=1,\n",
    "                     label=name)\n",
    "\n",
    "        # Other percentiles\n",
    "        for i in range(1, levels):\n",
    "            ax.fill_between(\n",
    "                data[:, 0],\n",
    "                data[:, 5 - i],\n",
    "                data[:, 5 + i],\n",
    "                color=color,\n",
    "                lw=0,\n",
    "                alpha=alpha ** i)\n",
    "\n",
    "        return ln\n",
    "\n",
    "    def render_scalar(self, name, ax: Axes, color, *, levels=5, line_width=1, alpha=0.6):\n",
    "        \"\"\"\n",
    "    ## Summarize and render a scalar\n",
    "    \"\"\"\n",
    "        data = self.summarize_scalars(self.tensor(name))\n",
    "        self.render_density(ax, data, color, name,\n",
    "                            levels=levels,\n",
    "                            line_width=line_width,\n",
    "                            alpha=alpha)\n",
    "\n",
    "    def render_histogram(self, name, ax: Axes, color, *, levels=5, line_width=1, alpha=0.6):\n",
    "        \"\"\"\n",
    "    ## Summarize and render a histogram\n",
    "    \"\"\"\n",
    "        data = self.summarize_compressed_histogram(self.histogram(name))\n",
    "        self.render_density(ax, data, color, name,\n",
    "                            levels=levels,\n",
    "                            line_width=line_width,\n",
    "                            alpha=alpha)\n",
    "\n",
    "    @staticmethod\n",
    "    def render_matrix(matrix, ax, color):\n",
    "        from matplotlib.patches import Rectangle\n",
    "        from matplotlib.collections import PatchCollection\n",
    "\n",
    "        rows, cols = matrix.shape\n",
    "        x_ticks = [matrix[0, i] for i in range(1, cols)]\n",
    "        y_ticks = [matrix[i, 0] for i in range(1, rows)]\n",
    "\n",
    "        max_density = 0\n",
    "        for y in range(rows - 2):\n",
    "            for x in range(cols - 2):\n",
    "                area = (x_ticks[x + 1] - x_ticks[x]) * (y_ticks[y + 1] - y_ticks[y])\n",
    "                density = matrix[y + 1, x + 1] / area\n",
    "                if max_density < density:\n",
    "                    max_density = density\n",
    "\n",
    "        boxes = []\n",
    "        for y in range(rows - 2):\n",
    "            for x in range(cols - 2):\n",
    "                width = x_ticks[x + 1] - x_ticks[x]\n",
    "                height = y_ticks[y + 1] - y_ticks[y]\n",
    "                area = width * height\n",
    "                density = matrix[y + 1, x + 1] / area\n",
    "                density = max(density, 1)\n",
    "                # alpha = np.log(density) / np.log(max_density)\n",
    "                alpha = density / max_density\n",
    "                rect = Rectangle((x_ticks[x], y_ticks[y]), width, height,\n",
    "                                 alpha=alpha, color=color)\n",
    "                boxes.append(rect)\n",
    "\n",
    "        pc = PatchCollection(boxes, match_original=True)\n",
    "\n",
    "        ax.add_collection(pc)\n",
    "\n",
    "        # Plot something\n",
    "        _ = ax.errorbar([], [], xerr=[], yerr=[],\n",
    "                        fmt='None', ecolor='k')\n",
    "\n",
    "        return x_ticks[0], x_ticks[-1], y_ticks[0], y_ticks[-1]\n",
    "\n",
    "    def render_tensors(self, tensors: Union[str, List[any]], axes: np.ndarray, color):\n",
    "        if type(tensors) == str:\n",
    "            tensors = self.tensor(tensors)\n",
    "        assert len(axes.shape) == 2\n",
    "        assert axes.shape[0] * axes.shape[1] == len(tensors)\n",
    "        x_min = x_max = y_min = y_max = 0\n",
    "\n",
    "        for i in range(axes.shape[0]):\n",
    "            for j in range(axes.shape[1]):\n",
    "                idx = i * axes.shape[1] + j\n",
    "                axes[i, j].set_title(f\"{tensors[idx].step :,}\")\n",
    "                matrix = tf.make_ndarray(tensors[idx].tensor_proto)\n",
    "                x1, x2, y1, y2 = self.render_matrix(matrix,\n",
    "                                                    axes[i, j],\n",
    "                                                    color)\n",
    "                x_min = min(x_min, x1)\n",
    "                x_max = max(x_max, x2)\n",
    "                y_min = min(y_min, y1)\n",
    "                y_max = max(y_max, y2)\n",
    "\n",
    "        for i in range(axes.shape[0]):\n",
    "            for j in range(axes.shape[1]):\n",
    "                axes[i, j].set_xlim(x_min, x_max)\n",
    "                axes[i, j].set_ylim(y_min, y_max)\n",
    "\n",
    "\n",
    "class Analyzer:\n",
    "    def __init__(self, experiment_name: str, run_index: Optional[int] = None):\n",
    "        self.run_info = get_run_info(experiment_name)\n",
    "        self.tb = TensorBoardAnalyzer(self.run_info.tensorboard_log_path)\n",
    "\n",
    "        with open(str(self.run_info.indicators_path), 'r') as f:\n",
    "            self.indicators = util.yaml_load(f.read())\n",
    "\n",
    "    def get_indicators(self, *args):\n",
    "        # TODO: Need to handle Queue's and mean scalars of histograms\n",
    "\n",
    "        dirs = {k: [] for k in args}\n",
    "\n",
    "        def add(class_name, key):\n",
    "            if class_name not in dirs:\n",
    "                return\n",
    "            dirs[class_name].append(key)\n",
    "\n",
    "        for k, v in self.indicators.items():\n",
    "            cn = v['class_name']\n",
    "            add(cn, k)\n",
    "            if cn == 'Histogram' :\n",
    "                add('Scalar', f\"{k}.mean\")\n",
    "            if cn == 'Queue':\n",
    "                add('Scalar', f\"{k}.mean\")\n",
    "                add('Histogram', k)\n",
    "\n",
    "        return [Dir(dirs[k]) for k in args]\n",
    "\n",
    "\n",
    "if __name__ == '__main__':\n",
    "    print(get_run_info('mnist_loop'))\n"
   ]
  },
  {
   "cell_type": "code",
   "execution_count": 66,
   "metadata": {},
   "outputs": [],
   "source": [
    "a = Analyzer('mnist_loop')"
   ]
  },
  {
   "cell_type": "code",
   "execution_count": 67,
   "metadata": {},
   "outputs": [],
   "source": [
    "a.tb.load()"
   ]
  },
  {
   "cell_type": "code",
   "execution_count": 68,
   "metadata": {},
   "outputs": [],
   "source": [
    "Histograms, Scalars = a.get_indicators('Histogram', 'Scalar')"
   ]
  },
  {
   "cell_type": "code",
   "execution_count": 69,
   "metadata": {},
   "outputs": [
    {
     "data": {
      "text/plain": [
       "'accuracy.mean'"
      ]
     },
     "execution_count": 69,
     "metadata": {},
     "output_type": "execute_result"
    }
   ],
   "source": [
    "Scalars.accuracy_mean"
   ]
  },
  {
   "cell_type": "code",
   "execution_count": 70,
   "metadata": {},
   "outputs": [],
   "source": [
    "import matplotlib.pyplot as plt\n",
    "import seaborn as sns"
   ]
  },
  {
   "cell_type": "code",
   "execution_count": 78,
   "metadata": {
    "scrolled": false
   },
   "outputs": [
    {
     "data": {
      "image/png": "[encoded data removed]",
      "text/plain": [
       "<Figure size 1296x648 with 1 Axes>"
      ]
     },
     "metadata": {
      "needs_background": "light"
     },
     "output_type": "display_data"
    }
   ],
   "source": [
    "_, ax = plt.subplots(figsize=(18,9))\n",
    "\n",
    "ln1 = a.tb.render_scalar(Scalars.model_conv1_bias_grad_mean, ax, sns.color_palette()[0])"
   ]
  },
  {
   "cell_type": "code",
   "execution_count": 42,
   "metadata": {},
   "outputs": [],
   "source": [
    "if 0:\n",
    "    a.tb.event_acc.Tags()"
   ]
  },
  {
   "cell_type": "code",
   "execution_count": 43,
   "metadata": {},
   "outputs": [],
   "source": [
    "if 0:\n",
    "    logger.info(a.tensor())"
   ]
  },
  {
   "cell_type": "code",
   "execution_count": 25,
   "metadata": {},
   "outputs": [],
   "source": [
    "e = a.tensor('accuracy/mean')[0]"
   ]
  },
  {
   "cell_type": "code",
   "execution_count": 28,
   "metadata": {},
   "outputs": [
    {
     "data": {
      "text/plain": [
       "TensorEvent(wall_time=1578115164.843276, step=938, tensor_proto=dtype: DT_FLOAT\n",
       "tensor_shape {\n",
       "}\n",
       "tensor_content: \"\\007_x?\"\n",
       ")"
      ]
     },
     "execution_count": 28,
     "metadata": {},
     "output_type": "execute_result"
    }
   ],
   "source": [
    "e"
   ]
  },
  {
   "cell_type": "code",
   "execution_count": 35,
   "metadata": {},
   "outputs": [],
   "source": [
    "import tensorflow as tf"
   ]
  },
  {
   "cell_type": "code",
   "execution_count": 36,
   "metadata": {},
   "outputs": [
    {
     "data": {
      "text/plain": [
       "array(0.9702, dtype=float32)"
      ]
     },
     "execution_count": 36,
     "metadata": {},
     "output_type": "execute_result"
    }
   ],
   "source": [
    "tf.make_ndarray(e.tensor_proto)"
   ]
  },
  {
   "cell_type": "code",
   "execution_count": 49,
   "metadata": {},
   "outputs": [
    {
     "data": {
      "text/plain": [
       "array([[-4.70585525e-02, -4.41074430e-02,  2.00000000e+00],\n",
       "       [-4.41074430e-02, -4.11563334e-02,  1.00000000e+00],\n",
       "       [-4.11563334e-02, -3.82052239e-02,  1.00000000e+00],\n",
       "       [-3.82052239e-02, -3.52541144e-02,  0.00000000e+00],\n",
       "       [-3.52541144e-02, -3.23030048e-02,  2.00000000e+00],\n",
       "       [-3.23030048e-02, -2.93518953e-02,  0.00000000e+00],\n",
       "       [-2.93518953e-02, -2.64007858e-02,  1.00000000e+00],\n",
       "       [-2.64007858e-02, -2.34496762e-02,  0.00000000e+00],\n",
       "       [-2.34496762e-02, -2.04985667e-02,  1.00000000e+00],\n",
       "       [-2.04985667e-02, -1.75474572e-02,  3.00000000e+00],\n",
       "       [-1.75474572e-02, -1.45963476e-02,  2.00000000e+00],\n",
       "       [-1.45963476e-02, -1.16452381e-02,  4.00000000e+00],\n",
       "       [-1.16452381e-02, -8.69412857e-03,  1.00000000e+00],\n",
       "       [-8.69412857e-03, -5.74301903e-03,  2.00000000e+00],\n",
       "       [-5.74301903e-03, -2.79190950e-03,  2.00000000e+00],\n",
       "       [-2.79190950e-03,  1.59200033e-04,  2.00000000e+00],\n",
       "       [ 1.59200033e-04,  3.11030957e-03,  0.00000000e+00],\n",
       "       [ 3.11030957e-03,  6.06141910e-03,  0.00000000e+00],\n",
       "       [ 6.06141910e-03,  9.01252863e-03,  0.00000000e+00],\n",
       "       [ 9.01252863e-03,  1.19636382e-02,  1.00000000e+00],\n",
       "       [ 1.19636382e-02,  1.49147477e-02,  1.00000000e+00],\n",
       "       [ 1.49147477e-02,  1.78658572e-02,  1.00000000e+00],\n",
       "       [ 1.78658572e-02,  2.08169668e-02,  1.00000000e+00],\n",
       "       [ 2.08169668e-02,  2.37680763e-02,  2.00000000e+00],\n",
       "       [ 2.37680763e-02,  2.67191858e-02,  6.00000000e+00],\n",
       "       [ 2.67191858e-02,  2.96702954e-02,  1.00000000e+00],\n",
       "       [ 2.96702954e-02,  3.26214049e-02,  1.00000000e+00],\n",
       "       [ 3.26214049e-02,  3.55725144e-02,  6.00000000e+00],\n",
       "       [ 3.55725144e-02,  3.85236240e-02,  3.00000000e+00],\n",
       "       [ 3.85236240e-02,  4.14747335e-02,  3.00000000e+00]])"
      ]
     },
     "execution_count": 49,
     "metadata": {},
     "output_type": "execute_result"
    }
   ],
   "source": [
    "tf.make_ndarray(a.tensor('model/conv2/bias')[0].tensor_proto)"
   ]
  },
  {
   "cell_type": "code",
   "execution_count": 81,
   "metadata": {},
   "outputs": [],
   "source": [
    "run_info = get_run_info('mnist_loop')"
   ]
  },
  {
   "cell_type": "code",
   "execution_count": 82,
   "metadata": {},
   "outputs": [],
   "source": [
    "import sqlite3"
   ]
  },
  {
   "cell_type": "code",
   "execution_count": 83,
   "metadata": {},
   "outputs": [],
   "source": [
    "conn = sqlite3.connect(str(run_info.sqlite_path))\n"
   ]
  },
  {
   "cell_type": "code",
   "execution_count": 84,
   "metadata": {},
   "outputs": [],
   "source": [
    "cur = conn.execute('SELECT MAX(step) FROM scalars')"
   ]
  },
  {
   "cell_type": "code",
   "execution_count": 85,
   "metadata": {},
   "outputs": [
    {
     "name": "stdout",
     "output_type": "stream",
     "text": [
      "(1876,)\n"
     ]
    }
   ],
   "source": [
    "for c in cur:\n",
    "    print(c)"
   ]
  },
  {
   "cell_type": "code",
   "execution_count": 86,
   "metadata": {},
   "outputs": [],
   "source": [
    "cur = conn.execute('''SELECT a.* FROM scalars AS a\n",
    "            INNER JOIN (\n",
    "                SELECT indicator, MAX(step) AS step \n",
    "                FROM scalars\n",
    "                GROUP BY indicator\n",
    "            ) b ON a.indicator = b.indicator AND a.step = b.step''')"
   ]
  },
  {
   "cell_type": "code",
   "execution_count": 87,
   "metadata": {},
   "outputs": [
    {
     "name": "stdout",
     "output_type": "stream",
     "text": [
      "('model.conv1.weight.mean', 1876, 0.018370917066931725)\n",
      "('model.conv1.weight.grad.mean', 1876, -0.0013952843146398664)\n",
      "('model.conv1.bias.mean', 1876, 0.016558634117245674)\n",
      "('model.conv1.bias.grad.mean', 1876, -0.00031752436188980937)\n",
      "('model.conv2.weight.mean', 1876, -0.00010347135685151443)\n",
      "('model.conv2.weight.grad.mean', 1876, -0.00017689727246761322)\n",
      "('model.conv2.bias.mean', 1876, 0.005232199560850859)\n",
      "('model.conv2.bias.grad.mean', 1876, 0.00010203290730714798)\n",
      "('model.fc1.weight.mean', 1876, 0.00013659313844982535)\n",
      "('model.fc1.weight.grad.mean', 1876, -3.2266973448713543e-06)\n",
      "('model.fc1.bias.mean', 1876, 0.0014599027344956994)\n",
      "('model.fc1.bias.grad.mean', 1876, -3.8176108319021296e-06)\n",
      "('model.fc2.weight.mean', 1876, -0.00024156866129487753)\n",
      "('model.fc2.weight.grad.mean', 1876, -1.4543533044530932e-09)\n",
      "('model.fc2.bias.mean', 1876, -0.0009683696553111076)\n",
      "('model.fc2.bias.grad.mean', 1876, -1.862645149230957e-09)\n",
      "('train_loss.mean', 1876, 0.07672616839408875)\n",
      "('test_loss.mean', 1876, 0.06259761428833008)\n",
      "('accuracy.mean', 1876, 0.9797)\n"
     ]
    }
   ],
   "source": [
    "for c in cur:\n",
    "    print(c)"
   ]
  }
 ],
 "metadata": {
  "kernelspec": {
   "display_name": "dl3",
   "language": "python",
   "name": "dl3"
  },
  "language_info": {
   "codemirror_mode": {
    "name": "ipython",
    "version": 3
   },
   "file_extension": ".py",
   "mimetype": "text/x-python",
   "name": "python",
   "nbconvert_exporter": "python",
   "pygments_lexer": "ipython3",
   "version": "3.7.5"
  }
 },
 "nbformat": 4,
 "nbformat_minor": 2
}
