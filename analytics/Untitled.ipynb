{
 "cells": [
  {
   "cell_type": "code",
   "execution_count": 47,
   "metadata": {},
   "outputs": [],
   "source": [
    "from lab import logger, util"
   ]
  },
  {
   "cell_type": "code",
   "execution_count": 49,
   "metadata": {},
   "outputs": [
    {
     "data": {
      "text/plain": [
       "{2: True,\n",
       " 11: True,\n",
       " 17: <DisplayHandle display_id=2>,\n",
       " 21: 2,\n",
       " 23: 2,\n",
       " 25: 2,\n",
       " 27: 2,\n",
       " 28: 'test',\n",
       " 29: 'test',\n",
       " 31: 'test',\n",
       " 33: 'test',\n",
       " 34: 'test',\n",
       " 35: 'test',\n",
       " 37: 'test',\n",
       " 38: 'test',\n",
       " 43: <module 'IPython' from '/Users/varuna/opt/anaconda3/envs/dl3/lib/python3.7/site-packages/IPython/__init__.py'>,\n",
       " 45: ['',\n",
       "  'from lab import logger, util',\n",
       "  'util.is_ipynb()',\n",
       "  'from lab import logger\\nfrom lab.logger.colors import Text, Color',\n",
       "  'logger.log(\"Red\", color=Text.danger)\\nlogger.log([\\n    (\\'Red\\', Color.red),\\n    (\\'Black\\', Color.black),\\n    (\\'Blue\\', Color.blue),\\n    (\\'Cyan\\', Color.cyan),\\n    (\\'Green\\', Color.green),\\n    (\\'Orange\\', Color.orange),\\n    (\\'Purple\\', Color.purple),\\n    (\\'White\\', Color.white),\\n\\n    \\' Normal \\',\\n])',\n",
       "  'from IPython.core.display import display, HTML',\n",
       "  \"html1 = HTML('<h1>Head</h2>')\",\n",
       "  'd = display(html1)',\n",
       "  \"html2 = HTML('test')\",\n",
       "  'd.update(html2)',\n",
       "  'd',\n",
       "  'd is None',\n",
       "  'd = display(html1)',\n",
       "  'd.update(html2)',\n",
       "  'd = display(html1, display_id=2)',\n",
       "  \"html2 = HTML('test')\",\n",
       "  'd.update(html2)',\n",
       "  'd',\n",
       "  'd.display(html2)',\n",
       "  'd.display(html1)',\n",
       "  'd = display(html1, display_id=2)\\nd.update(html2)',\n",
       "  'd.display_id',\n",
       "  'd = display(html1, display_id=3)\\nd.update(html2)',\n",
       "  '_',\n",
       "  'd = display(html1, display_id=3)\\n# d.update(html2)',\n",
       "  '_',\n",
       "  'd = display(html1, display_id=4)\\n# d.update(html2)',\n",
       "  '_',\n",
       "  \"d = display(html1, display_id=4)\\n# d.update(html2)\\n'test'\",\n",
       "  '_',\n",
       "  'd = display(html1, display_id=4)\\n# d.update(html2)',\n",
       "  '_',\n",
       "  'd = display(html1, display_id=4)\\n# d.update(html2)',\n",
       "  '_',\n",
       "  \"d = display(html1, display_id=4)\\n# d.update(html2)\\n'test'\",\n",
       "  '_',\n",
       "  'd = display(html1, display_id=4)\\n# d.update(html2)',\n",
       "  '_',\n",
       "  '_',\n",
       "  'd.display(html1)',\n",
       "  \"get_ipython().run_line_magic('recall', 'jupyter_notebook_cell_number')\",\n",
       "  'jupyter_notebook_cell_number',\n",
       "  'import IPython',\n",
       "  'IPython',\n",
       "  'p = getipython()',\n",
       "  'In',\n",
       "  'In',\n",
       "  'from lab import logger, util',\n",
       "  'In',\n",
       "  'Out'],\n",
       " 46: ['',\n",
       "  'from lab import logger, util',\n",
       "  'util.is_ipynb()',\n",
       "  'from lab import logger\\nfrom lab.logger.colors import Text, Color',\n",
       "  'logger.log(\"Red\", color=Text.danger)\\nlogger.log([\\n    (\\'Red\\', Color.red),\\n    (\\'Black\\', Color.black),\\n    (\\'Blue\\', Color.blue),\\n    (\\'Cyan\\', Color.cyan),\\n    (\\'Green\\', Color.green),\\n    (\\'Orange\\', Color.orange),\\n    (\\'Purple\\', Color.purple),\\n    (\\'White\\', Color.white),\\n\\n    \\' Normal \\',\\n])',\n",
       "  'from IPython.core.display import display, HTML',\n",
       "  \"html1 = HTML('<h1>Head</h2>')\",\n",
       "  'd = display(html1)',\n",
       "  \"html2 = HTML('test')\",\n",
       "  'd.update(html2)',\n",
       "  'd',\n",
       "  'd is None',\n",
       "  'd = display(html1)',\n",
       "  'd.update(html2)',\n",
       "  'd = display(html1, display_id=2)',\n",
       "  \"html2 = HTML('test')\",\n",
       "  'd.update(html2)',\n",
       "  'd',\n",
       "  'd.display(html2)',\n",
       "  'd.display(html1)',\n",
       "  'd = display(html1, display_id=2)\\nd.update(html2)',\n",
       "  'd.display_id',\n",
       "  'd = display(html1, display_id=3)\\nd.update(html2)',\n",
       "  '_',\n",
       "  'd = display(html1, display_id=3)\\n# d.update(html2)',\n",
       "  '_',\n",
       "  'd = display(html1, display_id=4)\\n# d.update(html2)',\n",
       "  '_',\n",
       "  \"d = display(html1, display_id=4)\\n# d.update(html2)\\n'test'\",\n",
       "  '_',\n",
       "  'd = display(html1, display_id=4)\\n# d.update(html2)',\n",
       "  '_',\n",
       "  'd = display(html1, display_id=4)\\n# d.update(html2)',\n",
       "  '_',\n",
       "  \"d = display(html1, display_id=4)\\n# d.update(html2)\\n'test'\",\n",
       "  '_',\n",
       "  'd = display(html1, display_id=4)\\n# d.update(html2)',\n",
       "  '_',\n",
       "  '_',\n",
       "  'd.display(html1)',\n",
       "  \"get_ipython().run_line_magic('recall', 'jupyter_notebook_cell_number')\",\n",
       "  'jupyter_notebook_cell_number',\n",
       "  'import IPython',\n",
       "  'IPython',\n",
       "  'p = getipython()',\n",
       "  'In',\n",
       "  'In',\n",
       "  'from lab import logger, util',\n",
       "  'In',\n",
       "  'Out'],\n",
       " 48: ['',\n",
       "  'from lab import logger, util',\n",
       "  'util.is_ipynb()',\n",
       "  'from lab import logger\\nfrom lab.logger.colors import Text, Color',\n",
       "  'logger.log(\"Red\", color=Text.danger)\\nlogger.log([\\n    (\\'Red\\', Color.red),\\n    (\\'Black\\', Color.black),\\n    (\\'Blue\\', Color.blue),\\n    (\\'Cyan\\', Color.cyan),\\n    (\\'Green\\', Color.green),\\n    (\\'Orange\\', Color.orange),\\n    (\\'Purple\\', Color.purple),\\n    (\\'White\\', Color.white),\\n\\n    \\' Normal \\',\\n])',\n",
       "  'from IPython.core.display import display, HTML',\n",
       "  \"html1 = HTML('<h1>Head</h2>')\",\n",
       "  'd = display(html1)',\n",
       "  \"html2 = HTML('test')\",\n",
       "  'd.update(html2)',\n",
       "  'd',\n",
       "  'd is None',\n",
       "  'd = display(html1)',\n",
       "  'd.update(html2)',\n",
       "  'd = display(html1, display_id=2)',\n",
       "  \"html2 = HTML('test')\",\n",
       "  'd.update(html2)',\n",
       "  'd',\n",
       "  'd.display(html2)',\n",
       "  'd.display(html1)',\n",
       "  'd = display(html1, display_id=2)\\nd.update(html2)',\n",
       "  'd.display_id',\n",
       "  'd = display(html1, display_id=3)\\nd.update(html2)',\n",
       "  '_',\n",
       "  'd = display(html1, display_id=3)\\n# d.update(html2)',\n",
       "  '_',\n",
       "  'd = display(html1, display_id=4)\\n# d.update(html2)',\n",
       "  '_',\n",
       "  \"d = display(html1, display_id=4)\\n# d.update(html2)\\n'test'\",\n",
       "  '_',\n",
       "  'd = display(html1, display_id=4)\\n# d.update(html2)',\n",
       "  '_',\n",
       "  'd = display(html1, display_id=4)\\n# d.update(html2)',\n",
       "  '_',\n",
       "  \"d = display(html1, display_id=4)\\n# d.update(html2)\\n'test'\",\n",
       "  '_',\n",
       "  'd = display(html1, display_id=4)\\n# d.update(html2)',\n",
       "  '_',\n",
       "  '_',\n",
       "  'd.display(html1)',\n",
       "  \"get_ipython().run_line_magic('recall', 'jupyter_notebook_cell_number')\",\n",
       "  'jupyter_notebook_cell_number',\n",
       "  'import IPython',\n",
       "  'IPython',\n",
       "  'p = getipython()',\n",
       "  'In',\n",
       "  'In',\n",
       "  'from lab import logger, util',\n",
       "  'In',\n",
       "  'Out']}"
      ]
     },
     "execution_count": 49,
     "metadata": {},
     "output_type": "execute_result"
    }
   ],
   "source": [
    "Out"
   ]
  },
  {
   "cell_type": "code",
   "execution_count": 2,
   "metadata": {},
   "outputs": [
    {
     "data": {
      "text/plain": [
       "True"
      ]
     },
     "execution_count": 2,
     "metadata": {},
     "output_type": "execute_result"
    }
   ],
   "source": [
    "util.is_ipynb()"
   ]
  },
  {
   "cell_type": "code",
   "execution_count": 3,
   "metadata": {},
   "outputs": [],
   "source": [
    "from lab import logger\n",
    "from lab.logger.colors import Text, Color"
   ]
  },
  {
   "cell_type": "code",
   "execution_count": 4,
   "metadata": {},
   "outputs": [
    {
     "data": {
      "text/html": [
       "<pre><span style=\"color: #E75C58\">Red</span>\n",
       "</pre>"
      ],
      "text/plain": [
       "<IPython.core.display.HTML object>"
      ]
     },
     "metadata": {},
     "output_type": "display_data"
    },
    {
     "data": {
      "text/html": [
       "<pre><span style=\"color: #E75C58\">Red</span><span style=\"color: #3E424D\">Black</span><span style=\"color: #208FFB\">Blue</span><span style=\"color: #60C6C8\">Cyan</span><span style=\"color: #00A250\">Green</span><span style=\"color: #DDB62B\">Orange</span><span style=\"color: #D160C4\">Purple</span><span style=\"color: #C5C1B4\">White</span> Normal \n",
       "</pre>"
      ],
      "text/plain": [
       "<IPython.core.display.HTML object>"
      ]
     },
     "metadata": {},
     "output_type": "display_data"
    }
   ],
   "source": [
    "logger.log(\"Red\", color=Text.danger)\n",
    "logger.log([\n",
    "    ('Red', Color.red),\n",
    "    ('Black', Color.black),\n",
    "    ('Blue', Color.blue),\n",
    "    ('Cyan', Color.cyan),\n",
    "    ('Green', Color.green),\n",
    "    ('Orange', Color.orange),\n",
    "    ('Purple', Color.purple),\n",
    "    ('White', Color.white),\n",
    "\n",
    "    ' Normal ',\n",
    "])"
   ]
  },
  {
   "cell_type": "code",
   "execution_count": 5,
   "metadata": {},
   "outputs": [],
   "source": [
    "from IPython.core.display import display, HTML\n"
   ]
  },
  {
   "cell_type": "code",
   "execution_count": 6,
   "metadata": {},
   "outputs": [],
   "source": [
    "html1 = HTML('<h1>Head</h2>')"
   ]
  },
  {
   "cell_type": "code",
   "execution_count": 36,
   "metadata": {},
   "outputs": [
    {
     "data": {
      "text/html": [
       "<h1>Head</h2>"
      ],
      "text/plain": [
       "<IPython.core.display.HTML object>"
      ]
     },
     "metadata": {},
     "output_type": "display_data"
    }
   ],
   "source": [
    "d = display(html1, display_id=4)\n",
    "# d.update(html2)"
   ]
  },
  {
   "cell_type": "code",
   "execution_count": 45,
   "metadata": {},
   "outputs": [
    {
     "data": {
      "text/plain": [
       "['',\n",
       " 'from lab import logger, util',\n",
       " 'util.is_ipynb()',\n",
       " 'from lab import logger\\nfrom lab.logger.colors import Text, Color',\n",
       " 'logger.log(\"Red\", color=Text.danger)\\nlogger.log([\\n    (\\'Red\\', Color.red),\\n    (\\'Black\\', Color.black),\\n    (\\'Blue\\', Color.blue),\\n    (\\'Cyan\\', Color.cyan),\\n    (\\'Green\\', Color.green),\\n    (\\'Orange\\', Color.orange),\\n    (\\'Purple\\', Color.purple),\\n    (\\'White\\', Color.white),\\n\\n    \\' Normal \\',\\n])',\n",
       " 'from IPython.core.display import display, HTML',\n",
       " \"html1 = HTML('<h1>Head</h2>')\",\n",
       " 'd = display(html1)',\n",
       " \"html2 = HTML('test')\",\n",
       " 'd.update(html2)',\n",
       " 'd',\n",
       " 'd is None',\n",
       " 'd = display(html1)',\n",
       " 'd.update(html2)',\n",
       " 'd = display(html1, display_id=2)',\n",
       " \"html2 = HTML('test')\",\n",
       " 'd.update(html2)',\n",
       " 'd',\n",
       " 'd.display(html2)',\n",
       " 'd.display(html1)',\n",
       " 'd = display(html1, display_id=2)\\nd.update(html2)',\n",
       " 'd.display_id',\n",
       " 'd = display(html1, display_id=3)\\nd.update(html2)',\n",
       " '_',\n",
       " 'd = display(html1, display_id=3)\\n# d.update(html2)',\n",
       " '_',\n",
       " 'd = display(html1, display_id=4)\\n# d.update(html2)',\n",
       " '_',\n",
       " \"d = display(html1, display_id=4)\\n# d.update(html2)\\n'test'\",\n",
       " '_',\n",
       " 'd = display(html1, display_id=4)\\n# d.update(html2)',\n",
       " '_',\n",
       " 'd = display(html1, display_id=4)\\n# d.update(html2)',\n",
       " '_',\n",
       " \"d = display(html1, display_id=4)\\n# d.update(html2)\\n'test'\",\n",
       " '_',\n",
       " 'd = display(html1, display_id=4)\\n# d.update(html2)',\n",
       " '_',\n",
       " '_',\n",
       " 'd.display(html1)',\n",
       " \"get_ipython().run_line_magic('recall', 'jupyter_notebook_cell_number')\",\n",
       " 'jupyter_notebook_cell_number',\n",
       " 'import IPython',\n",
       " 'IPython',\n",
       " 'p = getipython()',\n",
       " 'In']"
      ]
     },
     "execution_count": 45,
     "metadata": {},
     "output_type": "execute_result"
    }
   ],
   "source": [
    "In"
   ]
  },
  {
   "cell_type": "code",
   "execution_count": 15,
   "metadata": {},
   "outputs": [],
   "source": [
    "html2 = HTML('test')"
   ]
  },
  {
   "cell_type": "code",
   "execution_count": 16,
   "metadata": {},
   "outputs": [],
   "source": [
    "d.update(html2)"
   ]
  },
  {
   "cell_type": "code",
   "execution_count": 38,
   "metadata": {},
   "outputs": [
    {
     "data": {
      "text/plain": [
       "'test'"
      ]
     },
     "execution_count": 38,
     "metadata": {},
     "output_type": "execute_result"
    }
   ],
   "source": [
    "_"
   ]
  },
  {
   "cell_type": "code",
   "execution_count": 39,
   "metadata": {},
   "outputs": [
    {
     "data": {
      "text/html": [
       "<h1>Head</h2>"
      ],
      "text/plain": [
       "<IPython.core.display.HTML object>"
      ]
     },
     "metadata": {},
     "output_type": "display_data"
    }
   ],
   "source": [
    "d.display(html1)"
   ]
  },
  {
   "cell_type": "code",
   "execution_count": 21,
   "metadata": {},
   "outputs": [
    {
     "data": {
      "text/plain": [
       "2"
      ]
     },
     "execution_count": 21,
     "metadata": {},
     "output_type": "execute_result"
    }
   ],
   "source": [
    "d.display_id"
   ]
  },
  {
   "cell_type": "code",
   "execution_count": 40,
   "metadata": {},
   "outputs": [
    {
     "name": "stdout",
     "output_type": "stream",
     "text": [
      "Couldn't evaluate or find in history: jupyter_notebook_cell_number\n"
     ]
    }
   ],
   "source": [
    "%recall jupyter_notebook_cell_number\n"
   ]
  },
  {
   "cell_type": "code",
   "execution_count": 41,
   "metadata": {},
   "outputs": [
    {
     "ename": "NameError",
     "evalue": "name 'jupyter_notebook_cell_number' is not defined",
     "output_type": "error",
     "traceback": [
      "\u001b[0;31m---------------------------------------------------------------------------\u001b[0m",
      "\u001b[0;31mNameError\u001b[0m                                 Traceback (most recent call last)",
      "\u001b[0;32m<ipython-input-41-c0b283f4a2bd>\u001b[0m in \u001b[0;36m<module>\u001b[0;34m\u001b[0m\n\u001b[0;32m----> 1\u001b[0;31m \u001b[0mjupyter_notebook_cell_number\u001b[0m\u001b[0;34m\u001b[0m\u001b[0;34m\u001b[0m\u001b[0m\n\u001b[0m",
      "\u001b[0;31mNameError\u001b[0m: name 'jupyter_notebook_cell_number' is not defined"
     ]
    }
   ],
   "source": [
    "jupyter_notebook_cell_number"
   ]
  },
  {
   "cell_type": "code",
   "execution_count": 42,
   "metadata": {},
   "outputs": [],
   "source": [
    "import IPython"
   ]
  },
  {
   "cell_type": "code",
   "execution_count": 43,
   "metadata": {},
   "outputs": [
    {
     "data": {
      "text/plain": [
       "<module 'IPython' from '/Users/varuna/opt/anaconda3/envs/dl3/lib/python3.7/site-packages/IPython/__init__.py'>"
      ]
     },
     "execution_count": 43,
     "metadata": {},
     "output_type": "execute_result"
    }
   ],
   "source": [
    "IPython"
   ]
  },
  {
   "cell_type": "code",
   "execution_count": 44,
   "metadata": {},
   "outputs": [
    {
     "ename": "NameError",
     "evalue": "name 'getipython' is not defined",
     "output_type": "error",
     "traceback": [
      "\u001b[0;31m---------------------------------------------------------------------------\u001b[0m",
      "\u001b[0;31mNameError\u001b[0m                                 Traceback (most recent call last)",
      "\u001b[0;32m<ipython-input-44-e2f5ab0c9c3c>\u001b[0m in \u001b[0;36m<module>\u001b[0;34m\u001b[0m\n\u001b[0;32m----> 1\u001b[0;31m \u001b[0mp\u001b[0m \u001b[0;34m=\u001b[0m \u001b[0mgetipython\u001b[0m\u001b[0;34m(\u001b[0m\u001b[0;34m)\u001b[0m\u001b[0;34m\u001b[0m\u001b[0;34m\u001b[0m\u001b[0m\n\u001b[0m",
      "\u001b[0;31mNameError\u001b[0m: name 'getipython' is not defined"
     ]
    }
   ],
   "source": [
    "p = getipython()"
   ]
  },
  {
   "cell_type": "code",
   "execution_count": null,
   "metadata": {},
   "outputs": [],
   "source": []
  }
 ],
 "metadata": {
  "kernelspec": {
   "display_name": "dl3",
   "language": "python",
   "name": "dl3"
  },
  "language_info": {
   "codemirror_mode": {
    "name": "ipython",
    "version": 3
   },
   "file_extension": ".py",
   "mimetype": "text/x-python",
   "name": "python",
   "nbconvert_exporter": "python",
   "pygments_lexer": "ipython3",
   "version": "3.7.5"
  }
 },
 "nbformat": 4,
 "nbformat_minor": 2
}
