{
 "cells": [
  {
   "cell_type": "markdown",
   "metadata": {},
   "source": [
    "<p align=\"center\">\n",
    "  <img src=\"https://github.com/vpj/lab/raw/832758308905ee20ba9841fa80c47c77d7e58fda/images/logo.png?raw=true\" width=\"100\" title=\"Logo\">\n",
    "</p>\n",
    "\n",
    "# [🚧 Lab 3.0](https://github.com/vpj/lab)\n",
    "\n",
    "**⚠️ This is the development version, with a lot of frequent bareaking changes.**\n",
    "Feel free to try it out.\n",
    "Use the [previous](https://github.com/vpj/lab/tree/2.0) stable version if you want to use it in a project.\n",
    "\n",
    "This library helps you organize machine learning experiments.\n",
    "It is a quite small library,\n",
    " and most of the modules can be used independently of each other.\n",
    "This doesn't have any user interface.\n",
    "Experiment results are maintained in a folder structure,\n",
    "and there is a Python API to access them."
   ]
  },
  {
   "cell_type": "markdown",
   "metadata": {},
   "source": [
    "## Features"
   ]
  },
  {
   "cell_type": "markdown",
   "metadata": {},
   "source": [
    "### Organize Experiments\n",
    "\n",
    "Maintains logs, summaries and checkpoints of all the experiment runs in a folder structure.\n",
    "\n",
    "```\n",
    "logs\n",
    "├── experiment1\n",
    "│   ├── run1\n",
    "│   │   ├── run.yaml\n",
    "│   │   ├── configs.yaml\n",
    "│   │   ├── indicators.yaml\n",
    "│   │   ├── source.diff\n",
    "│   │   ├── checkpoints\n",
    "│   │   │   └── 📄 Saved checkpoints\n",
    "│   │   └── tensorboard\n",
    "│   │       └── 📄 TensorBoard summaries\n",
    "│   ├── run1\n",
    "│   ...\n",
    "└── experiment2...\n",
    "    ├──\n",
    "    ...\n",
    "```"
   ]
  },
  {
   "cell_type": "markdown",
   "metadata": {},
   "source": [
    "### [🎛 Dashboard](https://github.com/vpj/lab_dashboard) to browse experiments\n",
    "\n",
    "The web dashboard helps navigate experiments and multiple runs.\n",
    "You can checkout the configs and a summary of performance.\n",
    "You can launch TensorBoard directly from there.\n",
    "\n",
    "Eventually, we want to let you edit configs and run new experiments and analyse\n",
    "outputs on the dashboard."
   ]
  },
  {
   "cell_type": "markdown",
   "metadata": {},
   "source": [
    "### Logger\n",
    "\n",
    "Logger has a simple API to produce pretty console outputs.\n",
    "\n",
    "<p align=\"center\"><img style=\"max-width:100%\" src=\"https://github.com/vpj/lab/raw/832758308905ee20ba9841fa80c47c77d7e58fda/images/loop.gif\" /></p>"
   ]
  },
  {
   "cell_type": "markdown",
   "metadata": {},
   "source": [
    "### Manage configurations and hyper-parameters\n",
    "\n",
    "You can setup configs/hyper-parameters with functions.\n",
    "[🧪lab](https://github.com/vpj/lab) would identify the dependencies and run \n",
    "them in topological order.\n",
    "\n",
    "```python\n",
    "@Configs.calc()\n",
    "def model(c: Configs):\n",
    "    return Net().to(c.device)\n",
    "```\n",
    "\n",
    "You can setup multiple options for configuration functions. \n",
    "So you don't have to write a bunch if statements to handle configs.\n",
    "\n",
    "```python\n",
    "@Configs.calc('optimizer')\n",
    "def sgd(c: Configs):\n",
    "    return optim.SGD(c.model.parameters(), lr=c.learning_rate, momentum=c.momentum)\n",
    "\n",
    "@Configs.calc('optimizer')\n",
    "def adam(c: Configs):\n",
    "    return optim.Adam(c.model.parameters())\n",
    "```"
   ]
  },
  {
   "cell_type": "markdown",
   "metadata": {},
   "source": [
    "## Getting Started"
   ]
  },
  {
   "cell_type": "markdown",
   "metadata": {},
   "source": [
    "#### Install it via `pip` directly from github.\n",
    "\n",
    "```bash\n",
    "pip install -e git+git@github.com:vpj/lab.git#egg=lab\n",
    "```"
   ]
  },
  {
   "cell_type": "markdown",
   "metadata": {},
   "source": [
    "#### Create a `.lab.yaml` file.\n",
    "An empty file at the root of the project should\n",
    "be enough. You can set project level configs for\n",
    " 'check_repo_dirty' and 'path'\n",
    "in the config file.\n",
    "\n",
    "Lab will store all experiment data in folder `logs/` \n",
    "relative to `.lab.yaml` file.\n",
    "If `path` is set in `.lab.yaml` then it will be stored in `[path]logs/`\n",
    " relative to `.lab.yaml` file.\n",
    "\n",
    "You don't need the `.lab.yaml` file if you only plan on using the logger."
   ]
  },
  {
   "cell_type": "markdown",
   "metadata": {},
   "source": [
    "### Samples\n",
    "\n",
    "[Samples folder](https://github.com/vpj/lab/tree/master/samples) contains a\n",
    " bunch of examples of using 🧪 lab."
   ]
  },
  {
   "cell_type": "markdown",
   "metadata": {},
   "source": [
    "## Usage Example"
   ]
  },
  {
   "cell_type": "code",
   "execution_count": 1,
   "metadata": {},
   "outputs": [],
   "source": [
    "# Some imports\n",
    "import numpy as np\n",
    "import time"
   ]
  },
  {
   "cell_type": "markdown",
   "metadata": {},
   "source": [
    "### Logger"
   ]
  },
  {
   "cell_type": "code",
   "execution_count": 2,
   "metadata": {},
   "outputs": [],
   "source": [
    "from lab import logger\n",
    "from lab.logger.colors import Text, Color"
   ]
  },
  {
   "cell_type": "markdown",
   "metadata": {},
   "source": [
    "#### Logging with colors"
   ]
  },
  {
   "cell_type": "code",
   "execution_count": 3,
   "metadata": {},
   "outputs": [
    {
     "data": {
      "text/html": [
       "<pre><span style=\"color: #E75C58\">Red</span>\n",
       "<span style=\"color: #E75C58\">Red</span><span style=\"color: #3E424D\">Black</span><span style=\"color: #208FFB\">Blue</span><span style=\"color: #60C6C8\">Cyan</span><span style=\"color: #00A250\">Green</span><span style=\"color: #DDB62B\">Orange</span><span style=\"color: #D160C4\">Purple</span><span style=\"color: #C5C1B4\">White</span> Normal </pre>"
      ],
      "text/plain": [
       "<IPython.core.display.HTML object>"
      ]
     },
     "metadata": {},
     "output_type": "display_data"
    }
   ],
   "source": [
    "logger.log(\"Red\", color=Text.danger)\n",
    "logger.log([\n",
    "    ('Red', Color.red),\n",
    "    ('Black', Color.black),\n",
    "    ('Blue', Color.blue),\n",
    "    ('Cyan', Color.cyan),\n",
    "    ('Green', Color.green),\n",
    "    ('Orange', Color.orange),\n",
    "    ('Purple', Color.purple),\n",
    "    ('White', Color.white),\n",
    "\n",
    "    ' Normal ',\n",
    "])"
   ]
  },
  {
   "cell_type": "markdown",
   "metadata": {},
   "source": [
    "##### Logging debug info"
   ]
  },
  {
   "cell_type": "code",
   "execution_count": 4,
   "metadata": {},
   "outputs": [
    {
     "data": {
      "text/html": [
       "<pre><span style=\"color: #60C6C8\">a: </span><strong>2</strong>\n",
       "<span style=\"color: #60C6C8\">b: </span><strong>1</strong>\n",
       "<span style=\"color: #60C6C8\"> name: </span><strong>Name</strong>\n",
       "<span style=\"color: #60C6C8\">price: </span><strong>22</strong>\n",
       "Total <span style=\"color: #208FFB\">2</span> item(s)</pre>"
      ],
      "text/plain": [
       "<IPython.core.display.HTML object>"
      ]
     },
     "metadata": {},
     "output_type": "display_data"
    }
   ],
   "source": [
    "logger.info(a=2, b=1)\n",
    "logger.info(dict(name='Name', price=22))"
   ]
  },
  {
   "cell_type": "markdown",
   "metadata": {},
   "source": [
    "### Log indicators\n",
    "\n",
    "Here you specify indicators and the logger stores them temporarily and write in batches.\n",
    "It can aggregate and write them as means or histograms."
   ]
  },
  {
   "cell_type": "code",
   "execution_count": 5,
   "metadata": {},
   "outputs": [],
   "source": [
    "# dummy train function\n",
    "def train():\n",
    "    return np.random.randint(100)"
   ]
  },
  {
   "cell_type": "markdown",
   "metadata": {},
   "source": [
    "This stores all the loss values and writes the logs the mean on every tenth iteration.\n",
    "Console output line is replaced until `new_line` is called."
   ]
  },
  {
   "cell_type": "code",
   "execution_count": null,
   "metadata": {},
   "outputs": [
    {
     "data": {
      "text/html": [
       "<pre><strong><span style=\"color: #DDB62B\">     100:  </span></strong> loss: <strong> 40.1000</strong>\n",
       "<strong><span style=\"color: #DDB62B\">     200:  </span></strong> loss: <strong> 55.7000</strong>\n",
       "<strong><span style=\"color: #DDB62B\">     300:  </span></strong> loss: <strong> 29.4000</strong>\n",
       "<strong><span style=\"color: #DDB62B\">     400:  </span></strong> loss: <strong> 43.8000</strong>\n",
       "<strong><span style=\"color: #DDB62B\">     500:  </span></strong> loss: <strong> 28.2000</strong>\n",
       "<strong><span style=\"color: #DDB62B\">     600:  </span></strong> loss: <strong> 61.5000</strong>\n",
       "<strong><span style=\"color: #DDB62B\">     700:  </span></strong> loss: <strong> 47.0000</strong>\n",
       "<strong><span style=\"color: #DDB62B\">     800:  </span></strong> loss: <strong> 44.7000</strong>\n",
       "<strong><span style=\"color: #DDB62B\">     900:  </span></strong> loss: <strong> 51.5000</strong>\n",
       "<strong><span style=\"color: #DDB62B\">     990:  </span></strong> loss: <strong> 59.2000</strong></pre>"
      ],
      "text/plain": [
       "<IPython.core.display.HTML object>"
      ]
     },
     "metadata": {},
     "output_type": "display_data"
    }
   ],
   "source": [
    "for i in range(1, 1000):\n",
    "    logger.add_global_step()\n",
    "    loss = train()\n",
    "    logger.store(loss=loss)\n",
    "    if i % 10 == 0:\n",
    "        logger.write()\n",
    "    if i % 100 == 0:\n",
    "        logger.new_line()\n",
    "    time.sleep(0.02)"
   ]
  },
  {
   "cell_type": "markdown",
   "metadata": {},
   "source": [
    "#### Indicator settings"
   ]
  },
  {
   "cell_type": "code",
   "execution_count": 7,
   "metadata": {},
   "outputs": [],
   "source": [
    "from lab.logger.indicators import Queue, Scalar, Histogram"
   ]
  },
  {
   "cell_type": "code",
   "execution_count": 8,
   "metadata": {},
   "outputs": [],
   "source": [
    "# dummy train function\n",
    "def train2(idx):\n",
    "    return idx, 10, np.random.randint(100)"
   ]
  },
  {
   "cell_type": "markdown",
   "metadata": {},
   "source": [
    "`histogram` indicators will log a histogram of data.\n",
    "`queue` will store data in a `deque` of size `queue_size`, and log histograms.\n",
    "Both of these will log the means too. And if `is_print` is `True` it will print the mean."
   ]
  },
  {
   "cell_type": "code",
   "execution_count": 9,
   "metadata": {},
   "outputs": [],
   "source": [
    "# queue_size = 10, \n",
    "logger.add_indicator(Queue('reward', 10, True))\n",
    "# is_print default to False\n",
    "logger.add_indicator(Scalar('policy'))\n",
    "# is_print = True\n",
    "logger.add_indicator(Histogram('value', True))"
   ]
  },
  {
   "cell_type": "code",
   "execution_count": 10,
   "metadata": {},
   "outputs": [
    {
     "data": {
      "text/html": [
       "<pre><span style=\"font-weight:bold;color: #DDB62B\">     100:  </span> loss: <span style=\"font-weight:bold\"> 1.00000</span> reward: <span style=\"font-weight:bold\"> 95.5000</span> value: <span style=\"font-weight:bold\"> 37.1000</span>\n",
       "<span style=\"font-weight:bold;color: #DDB62B\">     200:  </span> loss: <span style=\"font-weight:bold\"> 1.00000</span> reward: <span style=\"font-weight:bold\"> 195.500</span> value: <span style=\"font-weight:bold\"> 70.0000</span>\n",
       "<span style=\"font-weight:bold;color: #DDB62B\">     300:  </span> loss: <span style=\"font-weight:bold\"> 1.00000</span> reward: <span style=\"font-weight:bold\"> 295.500</span> value: <span style=\"font-weight:bold\"> 31.1000</span>\n",
       "<span style=\"font-weight:bold;color: #DDB62B\">     400:  </span> loss: <span style=\"font-weight:bold\"> 1.00000</span> reward: <span style=\"font-weight:bold\"> 395.500</span> value: <span style=\"font-weight:bold\"> 45.4000</span>\n",
       "<span style=\"font-weight:bold;color: #DDB62B\">     500:  </span> loss: <span style=\"font-weight:bold\"> 1.00000</span> reward: <span style=\"font-weight:bold\"> 495.500</span> value: <span style=\"font-weight:bold\"> 51.2000</span>\n",
       "<span style=\"font-weight:bold;color: #DDB62B\">     600:  </span> loss: <span style=\"font-weight:bold\"> 1.00000</span> reward: <span style=\"font-weight:bold\"> 595.500</span> value: <span style=\"font-weight:bold\"> 42.5000</span>\n",
       "<span style=\"font-weight:bold;color: #DDB62B\">     700:  </span> loss: <span style=\"font-weight:bold\"> 1.00000</span> reward: <span style=\"font-weight:bold\"> 695.500</span> value: <span style=\"font-weight:bold\"> 51.0000</span>\n",
       "<span style=\"font-weight:bold;color: #DDB62B\">     800:  </span> loss: <span style=\"font-weight:bold\"> 1.00000</span> reward: <span style=\"font-weight:bold\"> 795.500</span> value: <span style=\"font-weight:bold\"> 49.2000</span>\n",
       "<span style=\"font-weight:bold;color: #DDB62B\">     900:  </span> loss: <span style=\"font-weight:bold\"> 1.00000</span> reward: <span style=\"font-weight:bold\"> 895.500</span> value: <span style=\"font-weight:bold\"> 53.9000</span>\n",
       "<span style=\"font-weight:bold;color: #DDB62B\">     990:  </span> loss: <span style=\"font-weight:bold\"> 1.00000</span> reward: <span style=\"font-weight:bold\"> 985.500</span> value: <span style=\"font-weight:bold\"> 56.0000</span></pre>"
      ],
      "text/plain": [
       "<IPython.core.display.HTML object>"
      ]
     },
     "metadata": {},
     "output_type": "display_data"
    }
   ],
   "source": [
    "logger.set_global_step(0)\n",
    "for i in range(1, 1000):\n",
    "    logger.add_global_step()\n",
    "    reward, policy, value = train2(i)\n",
    "    logger.store(reward=reward, policy=policy, value=value, loss=1.)\n",
    "    if i % 10 == 0:\n",
    "        logger.write()\n",
    "    if i % 100 == 0:\n",
    "        logger.new_line()"
   ]
  },
  {
   "cell_type": "markdown",
   "metadata": {},
   "source": [
    "### Sections\n",
    "\n",
    "Sections let you monitor time taken for\n",
    "different tasks and also helps *keep the code clean*\n",
    "by separating different blocks of code."
   ]
  },
  {
   "cell_type": "code",
   "execution_count": 11,
   "metadata": {},
   "outputs": [
    {
     "data": {
      "text/html": [
       "<pre>Load data<span style=\"color: #00A250\">...[DONE]</span><span style=\"color: #208FFB\">\t2,006.51ms</span>\n",
       "Load saved model<span style=\"color: #E75C58\">...[FAIL]</span><span style=\"color: #208FFB\">\t1,005.15ms</span>\n",
       "</pre>"
      ],
      "text/plain": [
       "<IPython.core.display.HTML object>"
      ]
     },
     "metadata": {},
     "output_type": "display_data"
    }
   ],
   "source": [
    "with logger.section(\"Load data\"):\n",
    "    # code to load data\n",
    "    time.sleep(2)\n",
    "\n",
    "with logger.section(\"Load saved model\"):\n",
    "    time.sleep(1)\n",
    "    logger.set_successful(False)\n",
    "    # code to create model"
   ]
  },
  {
   "cell_type": "markdown",
   "metadata": {},
   "source": [
    "#### Progress\n",
    "\n",
    "This shows the progress for code within the section."
   ]
  },
  {
   "cell_type": "code",
   "execution_count": 12,
   "metadata": {},
   "outputs": [
    {
     "data": {
      "text/html": [
       "<pre>Train<span style=\"color: #00A250\">...[DONE]</span><span style=\"color: #208FFB\">\t10,511.43ms</span>\n",
       "</pre>"
      ],
      "text/plain": [
       "<IPython.core.display.HTML object>"
      ]
     },
     "metadata": {},
     "output_type": "display_data"
    }
   ],
   "source": [
    "with logger.section(\"Train\", total_steps=100):\n",
    "    for i in range(100):\n",
    "        time.sleep(0.1)\n",
    "        # Multiple training steps in the inner loop\n",
    "        logger.progress(i)"
   ]
  },
  {
   "cell_type": "markdown",
   "metadata": {},
   "source": [
    "##### Iterator and Enumerator\n",
    "```python\n",
    "for data, target in logger.iterator(\"Test\", test_loader):\n",
    "    ...\n",
    "\n",
    "for i, (data, target) in logger.enumerator(\"Train\", train_loader):\n",
    "    ...\n",
    "```\n",
    "\n",
    "This combines `section` and `progress`\n",
    "\n",
    "### Loop\n",
    "\n",
    "```python\n",
    "for step in logger.loop(range(0, total_steps)):\n",
    "\t# training code ...\n",
    "```\n",
    "\n",
    "The `loop` keeps track of the time taken and time remaining for the loop.\n",
    "You can use *sections*, *iterators* and *enumerators* within loop.\n",
    "\n",
    "\n",
    "### Experiment\n",
    "\n",
    "```python\n",
    "exp = Experiment(name=\"mnist_pytorch\",\n",
    "                 comment=\"Test\")\n",
    "```\n",
    "\n",
    "* `name`: Name of the experiment;\n",
    " If not provided, this defaults to the calling python filename\n",
    "* `comment`: Comment about the current experiment run\n",
    "\n",
    "##### Starting an expriemnt\n",
    "```python\n",
    "exp.start()\n",
    "```\n",
    "\n",
    "This does the initialization work like creating log folders, writing run details, etc.\n",
    "\n",
    "```python\n",
    "exp.start(run_index=-1)\n",
    "```\n",
    "\n",
    "This starts the experiment from where it was left in the last run.\n",
    "You can provide a specific the run index to start from.\n",
    "\n",
    "##### Save Checkpoint\n",
    "```python\n",
    "logger.save_checkpoint()\n",
    "```\n",
    "\n",
    "This saves a checkpoint and you can start from the saved checkpoint with\n",
    "`exp.start(run=-1)`.\n",
    "\n",
    "### 🚧 Configs\n",
    "### 🚧 Training Loop"
   ]
  },
  {
   "cell_type": "markdown",
   "metadata": {},
   "source": [
    "---"
   ]
  },
  {
   "cell_type": "markdown",
   "metadata": {},
   "source": [
    "## Background\n",
    "I was coding existing reinforcement learning algorithms\n",
    " to play Atari games for fun.\n",
    "It was not easy to keep track of things when I started\n",
    " trying variations, fixing bugs etc.\n",
    "Then I wrote some tools to organize my experiment runs.\n",
    "I found it important to keep track of git commits\n",
    "to make sure I can reproduce results.\n",
    "\n",
    "I also wrote a logger to display pretty results on screen and\n",
    " to make it easy to write TensorBoard summaries.\n",
    "It also keeps track of training times which makes it easy to spot\n",
    " what's taking up most resources.\n",
    "\n",
    "This library is was made by combining these bunch of tools."
   ]
  },
  {
   "cell_type": "markdown",
   "metadata": {},
   "source": [
    "## Alternatives\n",
    "\n",
    "### Managing Experiments\n",
    "\n",
    "* [Comet](https://www.comet.ml/)\n",
    "* [Beaker](https://beaker.org/)\n",
    "* [Sacred](https://github.com/IDSIA/sacred)\n",
    "* [Neptune](https://neptune.ml/)\n",
    "* [Model Chimp](https://www.modelchimp.com/)\n",
    "\n",
    "### Logging\n",
    "\n",
    "* [TQDM](https://tqdm.github.io/)\n",
    "* [Loguru](https://github.com/Delgan/loguru)"
   ]
  },
  {
   "cell_type": "code",
   "execution_count": null,
   "metadata": {},
   "outputs": [],
   "source": []
  }
 ],
 "metadata": {
  "kernelspec": {
   "display_name": "dl3",
   "language": "python",
   "name": "dl3"
  },
  "language_info": {
   "codemirror_mode": {
    "name": "ipython",
    "version": 3
   },
   "file_extension": ".py",
   "mimetype": "text/x-python",
   "name": "python",
   "nbconvert_exporter": "python",
   "pygments_lexer": "ipython3",
   "version": "3.7.5"
  }
 },
 "nbformat": 4,
 "nbformat_minor": 2
}
