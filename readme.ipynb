{
 "cells": [
  {
   "cell_type": "markdown",
   "metadata": {},
   "source": [
    "<p align=\"center\">\n",
    "  <img src=\"https://github.com/vpj/lab/raw/832758308905ee20ba9841fa80c47c77d7e58fda/images/logo.png?raw=true\" width=\"100\" title=\"Logo\">\n",
    "</p>\n",
    "\n",
    "# [Lab 3.0](https://github.com/vpj/lab)\n",
    "\n",
    "This library helps you organize machine learning experiments.\n",
    "It is a quite small library,\n",
    " and most of the modules can be used independently of each other.\n",
    "This doesn't have any user interface.\n",
    "Experiment results are maintained in a folder structure,\n",
    "and there is a Python API to access them."
   ]
  },
  {
   "cell_type": "markdown",
   "metadata": {},
   "source": [
    "## Features"
   ]
  },
  {
   "cell_type": "markdown",
   "metadata": {},
   "source": [
    "### Organize Experiments\n",
    "\n",
    "Maintains logs, summaries and checkpoints of all the experiment runs in a folder structure.\n",
    "\n",
    "```\n",
    "logs\n",
    "├── experiment1\n",
    "│   ├── run1\n",
    "│   │   ├── run.yaml\n",
    "│   │   ├── configs.yaml\n",
    "│   │   ├── indicators.yaml\n",
    "│   │   ├── source.diff\n",
    "│   │   ├── checkpoints\n",
    "│   │   │   └── 📄 Saved checkpoints\n",
    "│   │   └── tensorboard\n",
    "│   │       └── 📄 TensorBoard summaries\n",
    "│   ├── run1\n",
    "│   ...\n",
    "└── experiment2...\n",
    "    ├──\n",
    "    ...\n",
    "```"
   ]
  },
  {
   "cell_type": "markdown",
   "metadata": {},
   "source": [
    "### [🎛 Dashboard](https://github.com/vpj/lab_dashboard) to browse experiments\n",
    "<p align=\"center\">\n",
    "  <img style=\"max-width:100%;\" src=\"https://raw.githubusercontent.com/vpj/lab/master/images/dashboard.png\" width=\"320\" title=\"Logo\">\n",
    "</p>\n",
    "\n",
    "The web dashboard helps navigate experiments and multiple runs.\n",
    "You can checkout the configs and a summary of performance.\n",
    "You can launch TensorBoard directly from there.\n",
    "\n",
    "Eventually, we want to let you edit configs and run new experiments and analyse\n",
    "outputs on the dashboard."
   ]
  },
  {
   "cell_type": "markdown",
   "metadata": {},
   "source": [
    "### Logger\n",
    "\n",
    "Logger has a simple API to produce pretty console outputs.\n",
    "\n",
    "<p align=\"center\"><img style=\"max-width:100%\" src=\"https://github.com/vpj/lab/raw/832758308905ee20ba9841fa80c47c77d7e58fda/images/loop.gif\" /></p>"
   ]
  },
  {
   "cell_type": "markdown",
   "metadata": {},
   "source": [
    "### Manage configurations and hyper-parameters\n",
    "\n",
    "You can setup configs/hyper-parameters with functions.\n",
    "[🧪lab](https://github.com/vpj/lab) would identify the dependencies and run \n",
    "them in topological order.\n",
    "\n",
    "```python\n",
    "@Configs.calc()\n",
    "def model(c: Configs):\n",
    "    return Net().to(c.device)\n",
    "```\n",
    "\n",
    "You can setup multiple options for configuration functions. \n",
    "So you don't have to write a bunch if statements to handle configs.\n",
    "\n",
    "```python\n",
    "@Configs.calc('optimizer')\n",
    "def sgd(c: Configs):\n",
    "    return optim.SGD(c.model.parameters(), lr=c.learning_rate, momentum=c.momentum)\n",
    "\n",
    "@Configs.calc('optimizer')\n",
    "def adam(c: Configs):\n",
    "    return optim.Adam(c.model.parameters())\n",
    "```"
   ]
  },
  {
   "cell_type": "markdown",
   "metadata": {},
   "source": [
    "## Getting Started"
   ]
  },
  {
   "cell_type": "markdown",
   "metadata": {},
   "source": [
    "### Clone and install\n",
    "\n",
    "```bash\n",
    "git clone git@github.com:vpj/lab.git\n",
    "cd lab\n",
    "pip install -e .\n",
    "```\n",
    "\n",
    "To update run a git update\n",
    "\n",
    "```bash\n",
    "cd lab\n",
    "git pull\n",
    "```\n",
    "\n",
    "<!-- ### Install it via `pip` directly from github.\n",
    "\n",
    "```bash\n",
    "pip install -e git+git@github.com:vpj/lab.git#egg=lab\n",
    "``` -->"
   ]
  },
  {
   "cell_type": "markdown",
   "metadata": {},
   "source": [
    "### Create a `.lab.yaml` file.\n",
    "An empty file at the root of the project should\n",
    "be enough. You can set project level configs for\n",
    " 'check_repo_dirty' and 'path'\n",
    "in the config file.\n",
    "\n",
    "Lab will store all experiment data in folder `logs/` \n",
    "relative to `.lab.yaml` file.\n",
    "If `path` is set in `.lab.yaml` then it will be stored in `[path]logs/`\n",
    " relative to `.lab.yaml` file.\n",
    "\n",
    "You don't need the `.lab.yaml` file if you only plan on using the logger."
   ]
  },
  {
   "cell_type": "markdown",
   "metadata": {},
   "source": [
    "### [Samples](https://github.com/vpj/lab/tree/master/samples)\n",
    "\n",
    "[Samples folder](https://github.com/vpj/lab/tree/master/samples) contains a\n",
    " bunch of examples of using 🧪 lab."
   ]
  },
  {
   "cell_type": "markdown",
   "metadata": {},
   "source": [
    "## Tutorial"
   ]
  },
  {
   "cell_type": "markdown",
   "metadata": {},
   "source": [
    "*The outputs lose color when viewing on github. Run [readme.ipynb](https://github.com/vpj/lab/blob/master/readme.ipynb) locally to try it out.*"
   ]
  },
  {
   "cell_type": "markdown",
   "metadata": {},
   "source": [
    "This short tutorial covers most of the usage patterns. We still don't have a proper documentation, but the source code of the project is quite clean and I assume you can dive into it if you need more details."
   ]
  },
  {
   "cell_type": "code",
   "execution_count": null,
   "metadata": {},
   "outputs": [],
   "source": [
    "# Some imports\n",
    "import numpy as np\n",
    "import time"
   ]
  },
  {
   "cell_type": "markdown",
   "metadata": {},
   "source": [
    "### Logger"
   ]
  },
  {
   "cell_type": "code",
   "execution_count": null,
   "metadata": {},
   "outputs": [],
   "source": [
    "from lab import logger\n",
    "from lab.logger.colors import Text, Color"
   ]
  },
  {
   "cell_type": "markdown",
   "metadata": {},
   "source": [
    "#### Logging with colors"
   ]
  },
  {
   "cell_type": "code",
   "execution_count": null,
   "metadata": {},
   "outputs": [],
   "source": [
    "logger.log(\"Colors are missing when views on github\", Text.highlight)\n",
    "\n",
    "logger.log([\n",
    "    ('Styles\\n', Text.heading),\n",
    "    ('Danger\\n', Text.danger),\n",
    "    ('Warning\\n', Text.warning),\n",
    "    ('Meta\\n', Text.meta),\n",
    "    ('Key\\n', Text.key),\n",
    "    ('Meta2\\n', Text.meta2),\n",
    "    ('Title\\n', Text.title),\n",
    "    ('Heading\\n', Text.heading),\n",
    "    ('Value\\n', Text.value),\n",
    "    ('Highlight\\n', Text.highlight),\n",
    "    ('Subtle\\n', Text.subtle)\n",
    "])\n",
    "\n",
    "logger.log([\n",
    "    ('Colors\\n', Text.heading),\n",
    "    ('Red\\n', Color.red),\n",
    "    ('Black\\n', Color.black),\n",
    "    ('Blue\\n', Color.blue),\n",
    "    ('Cyan\\n', Color.cyan),\n",
    "    ('Green\\n', Color.green),\n",
    "    ('Orange\\n', Color.orange),\n",
    "    ('Purple Heading\\n', [Color.purple, Text.heading]),\n",
    "    ('White\\n', Color.white),\n",
    "])"
   ]
  },
  {
   "cell_type": "markdown",
   "metadata": {},
   "source": [
    "##### Logging debug info"
   ]
  },
  {
   "cell_type": "code",
   "execution_count": null,
   "metadata": {},
   "outputs": [],
   "source": [
    "logger.info(a=2, b=1)\n",
    "logger.info(dict(name='Name', price=22))"
   ]
  },
  {
   "cell_type": "markdown",
   "metadata": {},
   "source": [
    "### Sections\n",
    "\n",
    "Sections let you monitor time taken for\n",
    "different tasks and also helps *keep the code clean*\n",
    "by separating different blocks of code."
   ]
  },
  {
   "cell_type": "code",
   "execution_count": null,
   "metadata": {},
   "outputs": [],
   "source": [
    "with logger.section(\"Load data\"):\n",
    "    # code to load data\n",
    "    time.sleep(2)\n",
    "\n",
    "with logger.section(\"Load saved model\"):\n",
    "    time.sleep(1)\n",
    "    logger.set_successful(False)\n",
    "    # code to create model"
   ]
  },
  {
   "cell_type": "markdown",
   "metadata": {},
   "source": [
    "#### Progress\n",
    "\n",
    "This shows the progress for code within the section."
   ]
  },
  {
   "cell_type": "code",
   "execution_count": null,
   "metadata": {},
   "outputs": [],
   "source": [
    "with logger.section(\"Train\", total_steps=100):\n",
    "    for i in range(100):\n",
    "        time.sleep(0.1)\n",
    "        # Multiple training steps in the inner loop\n",
    "        logger.progress(i)"
   ]
  },
  {
   "cell_type": "markdown",
   "metadata": {},
   "source": [
    "### Iterator and Enumerator\n",
    "\n",
    "This combines `section` and `progress`. In this example we use a PyTorch `DataLoader`. You can use `logger.iterate` and `logger.enumerate` with any iterable object."
   ]
  },
  {
   "cell_type": "code",
   "execution_count": null,
   "metadata": {},
   "outputs": [],
   "source": [
    "# Create a data loader for illustration\n",
    "import torch\n",
    "from torchvision import datasets, transforms\n",
    "\n",
    "test_loader = torch.utils.data.DataLoader(\n",
    "        datasets.MNIST('./data',\n",
    "                       train=False,\n",
    "                       download=True,\n",
    "                       transform=transforms.Compose([\n",
    "                           transforms.ToTensor(),\n",
    "                           transforms.Normalize((0.1307,), (0.3081,))\n",
    "                       ])),\n",
    "        batch_size=32, shuffle=True)"
   ]
  },
  {
   "cell_type": "code",
   "execution_count": null,
   "metadata": {},
   "outputs": [],
   "source": [
    "for data, target in logger.iterate(\"Test\", test_loader):\n",
    "    time.sleep(0.01)"
   ]
  },
  {
   "cell_type": "code",
   "execution_count": null,
   "metadata": {},
   "outputs": [],
   "source": [
    "for i, (data, target) in logger.enum(\"Test\", test_loader):\n",
    "    time.sleep(0.01)"
   ]
  },
  {
   "cell_type": "markdown",
   "metadata": {},
   "source": [
    "### Loop\n",
    "\n",
    "The `loop` keeps track of the time taken and time remaining for the loop.\n",
    "You can use *sections*, *iterators* and *enumerators* within loop.\n",
    "\n",
    "`logger.write` outputs the current status along with global step."
   ]
  },
  {
   "cell_type": "code",
   "execution_count": null,
   "metadata": {},
   "outputs": [],
   "source": [
    "for step in logger.loop(range(0, 400)):\n",
    "\tlogger.write()"
   ]
  },
  {
   "cell_type": "markdown",
   "metadata": {},
   "source": [
    "#### Global step"
   ]
  },
  {
   "cell_type": "markdown",
   "metadata": {},
   "source": [
    "The global step is used for logging to the screen, TensorBoard and when logging analytics to SQLite. You can manually set the global step. Here we will reset it."
   ]
  },
  {
   "cell_type": "code",
   "execution_count": null,
   "metadata": {},
   "outputs": [],
   "source": [
    "logger.set_global_step(0)"
   ]
  },
  {
   "cell_type": "markdown",
   "metadata": {},
   "source": [
    "You can manually increment global step too."
   ]
  },
  {
   "cell_type": "code",
   "execution_count": null,
   "metadata": {},
   "outputs": [],
   "source": [
    "for step in logger.loop(range(0, 400)):\n",
    "    logger.add_global_step(5)\n",
    "    logger.write()"
   ]
  },
  {
   "cell_type": "markdown",
   "metadata": {},
   "source": [
    "### Log indicators\n",
    "\n",
    "Here you specify indicators and the logger stores them temporarily and write in batches.\n",
    "It can aggregate and write them as means or histograms."
   ]
  },
  {
   "cell_type": "code",
   "execution_count": null,
   "metadata": {},
   "outputs": [],
   "source": [
    "# dummy train function\n",
    "def train():\n",
    "    return np.random.randint(100)\n",
    "\n",
    "# Reset global step because we incremented in previous loop\n",
    "logger.set_global_step(0)"
   ]
  },
  {
   "cell_type": "markdown",
   "metadata": {},
   "source": [
    "This stores all the loss values and writes the logs the mean on every tenth iteration.\n",
    "Console output line is replaced until `new_line` is called."
   ]
  },
  {
   "cell_type": "code",
   "execution_count": null,
   "metadata": {},
   "outputs": [],
   "source": [
    "for i in range(1, 401):\n",
    "    logger.add_global_step()\n",
    "    loss = train()\n",
    "    logger.store(loss=loss)\n",
    "    if i % 10 == 0:\n",
    "        logger.write()\n",
    "    if i % 100 == 0:\n",
    "        logger.new_line()\n",
    "    time.sleep(0.02)"
   ]
  },
  {
   "cell_type": "markdown",
   "metadata": {},
   "source": [
    "#### Indicator settings"
   ]
  },
  {
   "cell_type": "code",
   "execution_count": null,
   "metadata": {},
   "outputs": [],
   "source": [
    "from lab.logger.indicators import Queue, Scalar, Histogram"
   ]
  },
  {
   "cell_type": "code",
   "execution_count": null,
   "metadata": {},
   "outputs": [],
   "source": [
    "# dummy train function\n",
    "def train2(idx):\n",
    "    return idx, 10, np.random.randint(100)\n",
    "\n",
    "# Reset global step because we incremented in previous loop\n",
    "logger.set_global_step(0)"
   ]
  },
  {
   "cell_type": "markdown",
   "metadata": {},
   "source": [
    "`histogram` indicators will log a histogram of data.\n",
    "`queue` will store data in a `deque` of size `queue_size`, and log histograms.\n",
    "Both of these will log the means too. And if `is_print` is `True` it will print the mean."
   ]
  },
  {
   "cell_type": "code",
   "execution_count": null,
   "metadata": {},
   "outputs": [],
   "source": [
    "# queue_size = 10, \n",
    "logger.add_indicator(Queue('reward', 10, True))\n",
    "# is_print default to False\n",
    "logger.add_indicator(Scalar('policy'))\n",
    "# is_print = True\n",
    "logger.add_indicator(Histogram('value', True))"
   ]
  },
  {
   "cell_type": "code",
   "execution_count": null,
   "metadata": {},
   "outputs": [],
   "source": [
    "for i in range(1, 400):\n",
    "    logger.add_global_step()\n",
    "    reward, policy, value = train2(i)\n",
    "    logger.store(reward=reward, policy=policy, value=value, loss=1.)\n",
    "    if i % 10 == 0:\n",
    "        logger.write()\n",
    "    if i % 100 == 0:\n",
    "        logger.new_line()"
   ]
  },
  {
   "cell_type": "markdown",
   "metadata": {},
   "source": [
    "### Experiment\n",
    "\n",
    "Lab will keep track of experiments if you declare an Experiment. It will keep track of logs, code diffs, git commits, etc."
   ]
  },
  {
   "cell_type": "code",
   "execution_count": null,
   "metadata": {},
   "outputs": [],
   "source": [
    "from lab.experiment.pytorch import Experiment"
   ]
  },
  {
   "cell_type": "code",
   "execution_count": null,
   "metadata": {},
   "outputs": [],
   "source": [
    "exp = Experiment(name=\"mnist_pytorch\",\n",
    "                 comment=\"Test\")"
   ]
  },
  {
   "cell_type": "markdown",
   "metadata": {},
   "source": [
    "The `name` of the defaults to the calling python filename. However when invoking from a Jupyter Notebook it must be provided because the library cannot find the calling file name."
   ]
  },
  {
   "cell_type": "markdown",
   "metadata": {},
   "source": [
    "#### Starting an expriemnt"
   ]
  },
  {
   "cell_type": "markdown",
   "metadata": {},
   "source": [
    "This creates the folders, stores the experiment meta data, git commits, and source diffs."
   ]
  },
  {
   "cell_type": "code",
   "execution_count": null,
   "metadata": {},
   "outputs": [],
   "source": [
    "exp.start()"
   ]
  },
  {
   "cell_type": "markdown",
   "metadata": {},
   "source": [
    "You can also start from a previously saved checkpoint. A `run_index` of `-1` means that it will load from the last run.\n",
    "\n",
    "```python\n",
    "exp.start(run_index=-1)\n",
    "```"
   ]
  },
  {
   "cell_type": "markdown",
   "metadata": {},
   "source": [
    "#### Save Checkpoint"
   ]
  },
  {
   "cell_type": "code",
   "execution_count": null,
   "metadata": {},
   "outputs": [],
   "source": [
    "logger.save_checkpoint()"
   ]
  },
  {
   "cell_type": "markdown",
   "metadata": {},
   "source": [
    "### Configs"
   ]
  },
  {
   "cell_type": "code",
   "execution_count": null,
   "metadata": {},
   "outputs": [],
   "source": [
    "from lab import configs"
   ]
  },
  {
   "cell_type": "markdown",
   "metadata": {},
   "source": [
    "The configs will be stored and in future be adjusted from  [🎛 Dashboard](https://github.com/vpj/lab_dashboard)"
   ]
  },
  {
   "cell_type": "code",
   "execution_count": null,
   "metadata": {},
   "outputs": [],
   "source": [
    "class DeviceConfigs(configs.Configs):\n",
    "    use_cuda: bool = True\n",
    "    cuda_device: int = 0\n",
    "\n",
    "    device: any"
   ]
  },
  {
   "cell_type": "markdown",
   "metadata": {},
   "source": [
    "Some configs can be calculated"
   ]
  },
  {
   "cell_type": "code",
   "execution_count": null,
   "metadata": {},
   "outputs": [],
   "source": [
    "import torch"
   ]
  },
  {
   "cell_type": "code",
   "execution_count": null,
   "metadata": {},
   "outputs": [],
   "source": [
    "@DeviceConfigs.calc('device')\n",
    "def cuda(c: DeviceConfigs):\n",
    "    is_cuda = c.use_cuda and torch.cuda.is_available()\n",
    "    if not is_cuda:\n",
    "        return torch.device(\"cpu\")\n",
    "    else:\n",
    "        if c.cuda_device < torch.cuda.device_count():\n",
    "            return torch.device(f\"cuda:{c.cuda_device}\")\n",
    "        else:\n",
    "            logger.log(f\"Cuda device index {c.cuda_device} higher than \"\n",
    "                       f\"device count {torch.cuda.device_count()}\", Text.warning)\n",
    "            return torch.device(f\"cuda:{torch.cuda.device_count() - 1}\")"
   ]
  },
  {
   "cell_type": "markdown",
   "metadata": {},
   "source": [
    "Configs classes can be inherited"
   ]
  },
  {
   "cell_type": "code",
   "execution_count": null,
   "metadata": {},
   "outputs": [],
   "source": [
    "class Configs(DeviceConfigs):\n",
    "    model_size: int = 10\n",
    "        \n",
    "    model: any = 'cnn_model'"
   ]
  },
  {
   "cell_type": "markdown",
   "metadata": {},
   "source": [
    "You can specify multiple config calculator functions. The function given by the string for respective attribute will be picked."
   ]
  },
  {
   "cell_type": "code",
   "execution_count": null,
   "metadata": {},
   "outputs": [],
   "source": [
    "@Configs.calc('model')\n",
    "def cnn_model(c: Configs):\n",
    "    return c.model_size * 10\n",
    "\n",
    "@Configs.calc('model')\n",
    "def lstm_model(c: Configs):\n",
    "    return c.model_size * 2"
   ]
  },
  {
   "cell_type": "markdown",
   "metadata": {},
   "source": [
    "The experiment will calculate the configs."
   ]
  },
  {
   "cell_type": "code",
   "execution_count": null,
   "metadata": {},
   "outputs": [],
   "source": [
    "conf = Configs()\n",
    "conf.model = 'lstm_model'\n",
    "experiment = Experiment(name='test_configs')\n",
    "experiment.calc_configs(conf)\n",
    "logger.info(model=conf.model)"
   ]
  },
  {
   "cell_type": "markdown",
   "metadata": {},
   "source": [
    "---"
   ]
  },
  {
   "cell_type": "markdown",
   "metadata": {},
   "source": [
    "## Background\n",
    "I was coding existing reinforcement learning algorithms\n",
    " to play Atari games for fun.\n",
    "It was not easy to keep track of things when I started\n",
    " trying variations, fixing bugs etc.\n",
    "Then I wrote some tools to organize my experiment runs.\n",
    "I found it important to keep track of git commits\n",
    "to make sure I can reproduce results.\n",
    "\n",
    "I also wrote a logger to display pretty results on screen and\n",
    " to make it easy to write TensorBoard summaries.\n",
    "It also keeps track of training times which makes it easy to spot\n",
    " what's taking up most resources.\n",
    "\n",
    "This library is was made by combining these bunch of tools."
   ]
  },
  {
   "cell_type": "markdown",
   "metadata": {},
   "source": [
    "## Alternatives\n",
    "\n",
    "### Managing Experiments\n",
    "\n",
    "* [Comet](https://www.comet.ml/)\n",
    "* [Beaker](https://beaker.org/)\n",
    "* [Sacred](https://github.com/IDSIA/sacred)\n",
    "* [Neptune](https://neptune.ml/)\n",
    "* [Model Chimp](https://www.modelchimp.com/)\n",
    "\n",
    "### Logging\n",
    "\n",
    "* [TQDM](https://tqdm.github.io/)\n",
    "* [Loguru](https://github.com/Delgan/loguru)"
   ]
  },
  {
   "cell_type": "code",
   "execution_count": null,
   "metadata": {},
   "outputs": [],
   "source": []
  }
 ],
 "metadata": {
  "kernelspec": {
   "display_name": "dl3",
   "language": "python",
   "name": "dl3"
  },
  "language_info": {
   "codemirror_mode": {
    "name": "ipython",
    "version": 3
   },
   "file_extension": ".py",
   "mimetype": "text/x-python",
   "name": "python",
   "nbconvert_exporter": "python",
   "pygments_lexer": "ipython3",
   "version": "3.7.5"
  }
 },
 "nbformat": 4,
 "nbformat_minor": 2
}
