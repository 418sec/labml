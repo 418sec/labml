{
 "cells": [
  {
   "cell_type": "markdown",
   "metadata": {},
   "source": [
    "<p align=\"center\">\n",
    "  <img src=\"https://github.com/vpj/lab/raw/832758308905ee20ba9841fa80c47c77d7e58fda/images/logo.png?raw=true\" width=\"100\" title=\"Logo\">\n",
    "</p>\n",
    "\n",
    "# [Lab 3.0](https://github.com/vpj/lab)\n",
    "\n",
    "This library helps you organize and track\n",
    " machine learning experiments.\n",
    " \n",
    "[🎛 Dashboard](https://github.com/vpj/lab_dashboard) is the web \n",
    " interface for Lab.\n"
   ]
  },
  {
   "cell_type": "markdown",
   "metadata": {},
   "source": [
    "## Features\n",
    "\n",
    "Main features of Lab are:\n",
    "* Organizing experiments\n",
    "* [🎛 Dashboard](https://github.com/vpj/lab_dashboard) to browse experiments\n",
    "* Logger\n",
    "* Managing configurations and hyper-parameters"
   ]
  },
  {
   "cell_type": "markdown",
   "metadata": {},
   "source": [
    "### Organizing Experiments\n",
    "\n",
    "Lab keeps track of all the model training statistics.\n",
    "It keeps them in a SQLite database and also pushes them to Tensorboard.\n",
    "It also organizes the checkpoints and any other artifacts you wish to save.\n",
    "All of these could be accessed with the Python API and also stored\n",
    " in a human friendly folder structure.\n",
    "This could be  of your training pro\n",
    "Maintains logs, summaries and checkpoints of all the experiment runs \n",
    " in a folder structure."
   ]
  },
  {
   "cell_type": "markdown",
   "metadata": {},
   "source": [
    "### [🎛 Dashboard](https://github.com/vpj/lab_dashboard) to browse experiments\n",
    "<p align=\"center\">\n",
    "  <img style=\"max-width:100%;\"\n",
    "   src=\"https://raw.githubusercontent.com/vpj/lab/master/images/dashboard.png\"\n",
    "   width=\"1024\" title=\"Dashboard Screenshot\">\n",
    "</p>\n",
    "\n",
    "The web dashboard helps navigate experiments and multiple runs.\n",
    "You can checkout the configs and a summary of performance.\n",
    "You can launch TensorBoard directly from there.\n",
    "\n",
    "*Eventually, we want to let you edit configs and run new experiments and analyse\n",
    "outputs on the dashboard.*"
   ]
  },
  {
   "cell_type": "markdown",
   "metadata": {},
   "source": [
    "### Logger\n",
    "\n",
    "Logger has a simple API to produce pretty console outputs.\n",
    "\n",
    "It also comes with a bunch of helper functions that manages\n",
    " iterators and loops.\n",
    " \n",
    "<p align=\"center\">\n",
    " <img style=\"max-width:100%\" \n",
    "   src=\"https://raw.githubusercontent.com/vpj/lab/master/images/loop.gif\"\n",
    "  />\n",
    "</p>"
   ]
  },
  {
   "cell_type": "markdown",
   "metadata": {},
   "source": [
    "### Manage configurations and hyper-parameters\n",
    "\n",
    "You can setup configs/hyper-parameters with functions.\n",
    "[🧪lab](https://github.com/vpj/lab) would identify the dependencies and run \n",
    "them in topological order.\n",
    "\n",
    "```python\n",
    "@Configs.calc()\n",
    "def model(c: Configs):\n",
    "    return Net().to(c.device)\n",
    "```\n",
    "\n",
    "You can setup multiple options for configuration functions. \n",
    "So you don't have to write a bunch if statements to handle configs.\n",
    "\n",
    "```python\n",
    "@Configs.calc(Configs.optimizer)\n",
    "def sgd(c: Configs):\n",
    "    return optim.SGD(c.model.parameters(), lr=c.learning_rate, momentum=c.momentum)\n",
    "\n",
    "@Configs.calc(Configs.optimizer)\n",
    "def adam(c: Configs):\n",
    "    return optim.Adam(c.model.parameters())\n",
    "```"
   ]
  },
  {
   "cell_type": "markdown",
   "metadata": {},
   "source": [
    "## Getting Started"
   ]
  },
  {
   "cell_type": "markdown",
   "metadata": {},
   "source": [
    "### Clone and install\n",
    "\n",
    "```bash\n",
    "git clone git@github.com:vpj/lab.git\n",
    "cd lab\n",
    "pip install -e .\n",
    "```\n",
    "\n",
    "To update run a git update\n",
    "\n",
    "```bash\n",
    "cd lab\n",
    "git pull\n",
    "```\n",
    "\n",
    "<!-- ### Install it via `pip` directly from github.\n",
    "\n",
    "```bash\n",
    "pip install -e git+git@github.com:vpj/lab.git#egg=lab\n",
    "``` -->"
   ]
  },
  {
   "cell_type": "markdown",
   "metadata": {},
   "source": [
    "### Create a `.lab.yaml` file.\n",
    "An empty file at the root of the project should\n",
    "be enough. You can set project level configs for\n",
    " 'check_repo_dirty' and 'path'\n",
    "in the config file.\n",
    "\n",
    "Lab will store all experiment data in folder `logs/` \n",
    "relative to `.lab.yaml` file.\n",
    "If `path` is set in `.lab.yaml` then it will be stored in `[path]logs/`\n",
    " relative to `.lab.yaml` file.\n",
    "\n",
    "You don't need the `.lab.yaml` file if you only plan on using the logger."
   ]
  },
  {
   "cell_type": "markdown",
   "metadata": {},
   "source": [
    "### [Samples](https://github.com/vpj/lab/tree/master/samples)\n",
    "\n",
    "[Samples folder](https://github.com/vpj/lab/tree/master/samples) contains a\n",
    " bunch of examples of using 🧪 lab.\n",
    "\n",
    "Here are some [annotated samples](http://blog.varunajayasiri.com/ml/lab3/#samples%2Fmnist_loop.py)."
   ]
  },
  {
   "cell_type": "markdown",
   "metadata": {},
   "source": [
    "## Tutorial"
   ]
  },
  {
   "cell_type": "markdown",
   "metadata": {},
   "source": [
    "*The outputs lose color when viewing on github. Run [readme.ipynb](https://github.com/vpj/lab/blob/master/readme.ipynb) locally to try it out.*"
   ]
  },
  {
   "cell_type": "markdown",
   "metadata": {},
   "source": [
    "This short tutorial covers most of the usage patterns. We still don't have a proper documentation, but the source code of the project is quite clean and I assume you can dive into it if you need more details."
   ]
  },
  {
   "cell_type": "markdown",
   "metadata": {},
   "source": [
    "### Logger"
   ]
  },
  {
   "cell_type": "code",
   "execution_count": 2,
   "metadata": {},
   "outputs": [],
   "source": [
    "from lab import logger\n",
    "from lab.logger.colors import Text, Color"
   ]
  },
  {
   "cell_type": "markdown",
   "metadata": {},
   "source": [
    "#### Logging with colors"
   ]
  },
  {
   "cell_type": "code",
   "execution_count": 6,
   "metadata": {},
   "outputs": [
    {
     "data": {
      "text/html": [
       "<pre><strong><span style=\"color: #DDB62B\">Colors are missing when views on github</span></strong></pre>"
      ],
      "text/plain": [
       "<IPython.core.display.HTML object>"
      ]
     },
     "metadata": {},
     "output_type": "display_data"
    }
   ],
   "source": [
    "logger.log(\"Colors are missing when views on github\", Text.highlight)"
   ]
  },
  {
   "cell_type": "markdown",
   "metadata": {},
   "source": [
    "You can use predifined styles"
   ]
  },
  {
   "cell_type": "code",
   "execution_count": 8,
   "metadata": {},
   "outputs": [
    {
     "data": {
      "text/html": [
       "<pre><span style=\"text-decoration: underline\">Styles </span><span style=\"color: #E75C58\">Danger </span><span style=\"color: #DDB62B\">Warning </span><span style=\"color: #208FFB\">Meta </span><span style=\"color: #60C6C8\">Key </span><span style=\"color: #D160C4\">Meta2 </span><strong><span style=\"text-decoration: underline\">Title </span></strong><span style=\"text-decoration: underline\">Heading </span><strong>Value </strong><strong><span style=\"color: #DDB62B\">Highlight </span></strong><span style=\"color: #C5C1B4\">Subtle</span></pre>"
      ],
      "text/plain": [
       "<IPython.core.display.HTML object>"
      ]
     },
     "metadata": {},
     "output_type": "display_data"
    }
   ],
   "source": [
    "logger.log([\n",
    "    ('Styles ', Text.heading),\n",
    "    ('Danger ', Text.danger),\n",
    "    ('Warning ', Text.warning),\n",
    "    ('Meta ', Text.meta),\n",
    "    ('Key ', Text.key),\n",
    "    ('Meta2 ', Text.meta2),\n",
    "    ('Title ', Text.title),\n",
    "    ('Heading ', Text.heading),\n",
    "    ('Value ', Text.value),\n",
    "    ('Highlight ', Text.highlight),\n",
    "    ('Subtle', Text.subtle)\n",
    "])"
   ]
  },
  {
   "cell_type": "markdown",
   "metadata": {},
   "source": [
    "Or, specify colors"
   ]
  },
  {
   "cell_type": "code",
   "execution_count": 9,
   "metadata": {},
   "outputs": [
    {
     "data": {
      "text/html": [
       "<pre><span style=\"text-decoration: underline\">Colors </span><span style=\"color: #E75C58\">Red </span><span style=\"color: #3E424D\">Black </span><span style=\"color: #208FFB\">Blue </span><span style=\"color: #60C6C8\">Cyan </span><span style=\"color: #00A250\">Green </span><span style=\"color: #DDB62B\">Orange </span><span style=\"color: #D160C4\"><span style=\"text-decoration: underline\">Purple Heading </span></span><span style=\"color: #C5C1B4\">White</span></pre>"
      ],
      "text/plain": [
       "<IPython.core.display.HTML object>"
      ]
     },
     "metadata": {},
     "output_type": "display_data"
    }
   ],
   "source": [
    "logger.log([\n",
    "    ('Colors ', Text.heading),\n",
    "    ('Red ', Color.red),\n",
    "    ('Black ', Color.black),\n",
    "    ('Blue ', Color.blue),\n",
    "    ('Cyan ', Color.cyan),\n",
    "    ('Green ', Color.green),\n",
    "    ('Orange ', Color.orange),\n",
    "    ('Purple Heading ', [Color.purple, Text.heading]),\n",
    "    ('White', Color.white),\n",
    "])"
   ]
  },
  {
   "cell_type": "markdown",
   "metadata": {},
   "source": [
    "##### Logging debug info"
   ]
  },
  {
   "cell_type": "markdown",
   "metadata": {},
   "source": [
    "You can pretty print python objects"
   ]
  },
  {
   "cell_type": "code",
   "execution_count": 12,
   "metadata": {
    "scrolled": true
   },
   "outputs": [
    {
     "data": {
      "text/html": [
       "<pre><span style=\"color: #60C6C8\">a: </span><strong>2</strong>\n",
       "<span style=\"color: #60C6C8\">b: </span><strong>1</strong></pre>"
      ],
      "text/plain": [
       "<IPython.core.display.HTML object>"
      ]
     },
     "metadata": {},
     "output_type": "display_data"
    }
   ],
   "source": [
    "logger.info(a=2, b=1)"
   ]
  },
  {
   "cell_type": "code",
   "execution_count": 13,
   "metadata": {},
   "outputs": [
    {
     "data": {
      "text/html": [
       "<pre><span style=\"color: #60C6C8\"> name: </span><strong>Name</strong>\n",
       "<span style=\"color: #60C6C8\">price: </span><strong>22</strong>\n",
       "Total <span style=\"color: #208FFB\">2</span> item(s)</pre>"
      ],
      "text/plain": [
       "<IPython.core.display.HTML object>"
      ]
     },
     "metadata": {},
     "output_type": "display_data"
    }
   ],
   "source": [
    "logger.info(dict(name='Name', price=22))"
   ]
  },
  {
   "cell_type": "markdown",
   "metadata": {},
   "source": [
    "### Sections\n",
    "\n",
    "Sections let you monitor time taken for\n",
    "different tasks and also helps *keep the code clean*\n",
    "by separating different blocks of code."
   ]
  },
  {
   "cell_type": "code",
   "execution_count": 14,
   "metadata": {},
   "outputs": [],
   "source": [
    "import time"
   ]
  },
  {
   "cell_type": "code",
   "execution_count": 15,
   "metadata": {},
   "outputs": [
    {
     "data": {
      "text/html": [
       "<pre>Load data<span style=\"color: #00A250\">...[DONE]</span><span style=\"color: #208FFB\">\t2,005.04ms</span>\n",
       "</pre>"
      ],
      "text/plain": [
       "<IPython.core.display.HTML object>"
      ]
     },
     "metadata": {},
     "output_type": "display_data"
    }
   ],
   "source": [
    "with logger.section(\"Load data\"):\n",
    "    # code to load data\n",
    "    time.sleep(2)"
   ]
  },
  {
   "cell_type": "code",
   "execution_count": 16,
   "metadata": {},
   "outputs": [
    {
     "data": {
      "text/html": [
       "<pre>Load saved model<span style=\"color: #E75C58\">...[FAIL]</span><span style=\"color: #208FFB\">\t1,008.86ms</span>\n",
       "</pre>"
      ],
      "text/plain": [
       "<IPython.core.display.HTML object>"
      ]
     },
     "metadata": {},
     "output_type": "display_data"
    }
   ],
   "source": [
    "with logger.section(\"Load saved model\"):\n",
    "    time.sleep(1)\n",
    "    logger.set_successful(False)"
   ]
  },
  {
   "cell_type": "markdown",
   "metadata": {},
   "source": [
    "You can also show progress while a section is running"
   ]
  },
  {
   "cell_type": "code",
   "execution_count": 17,
   "metadata": {},
   "outputs": [
    {
     "data": {
      "text/html": [
       "<pre>Train<span style=\"color: #00A250\">...[DONE]</span><span style=\"color: #208FFB\">\t10,600.04ms</span>\n",
       "</pre>"
      ],
      "text/plain": [
       "<IPython.core.display.HTML object>"
      ]
     },
     "metadata": {},
     "output_type": "display_data"
    }
   ],
   "source": [
    "with logger.section(\"Train\", total_steps=100):\n",
    "    for i in range(100):\n",
    "        time.sleep(0.1)\n",
    "        # Multiple training steps in the inner loop\n",
    "        logger.progress(i)"
   ]
  },
  {
   "cell_type": "markdown",
   "metadata": {},
   "source": [
    "### Iterator and Enumerator\n",
    "\n",
    "You can use `logger.iterate` and `logger.enumerate` with any iterable object.\n",
    "In this example we use a PyTorch `DataLoader`."
   ]
  },
  {
   "cell_type": "code",
   "execution_count": 18,
   "metadata": {},
   "outputs": [],
   "source": [
    "# Create a data loader for illustration\n",
    "import torch\n",
    "from torchvision import datasets, transforms\n",
    "\n",
    "test_loader = torch.utils.data.DataLoader(\n",
    "        datasets.MNIST('./data',\n",
    "                       train=False,\n",
    "                       download=True,\n",
    "                       transform=transforms.Compose([\n",
    "                           transforms.ToTensor(),\n",
    "                           transforms.Normalize((0.1307,), (0.3081,))\n",
    "                       ])),\n",
    "        batch_size=32, shuffle=True)"
   ]
  },
  {
   "cell_type": "code",
   "execution_count": 19,
   "metadata": {},
   "outputs": [
    {
     "data": {
      "text/html": [
       "<pre>Test<span style=\"color: #00A250\">...[DONE]</span><span style=\"color: #208FFB\">\t6,618.08ms</span>\n",
       "</pre>"
      ],
      "text/plain": [
       "<IPython.core.display.HTML object>"
      ]
     },
     "metadata": {},
     "output_type": "display_data"
    }
   ],
   "source": [
    "for data, target in logger.iterate(\"Test\", test_loader):\n",
    "    time.sleep(0.01)"
   ]
  },
  {
   "cell_type": "code",
   "execution_count": 20,
   "metadata": {},
   "outputs": [
    {
     "data": {
      "text/html": [
       "<pre>Test<span style=\"color: #00A250\">...[DONE]</span><span style=\"color: #208FFB\">\t6,662.78ms</span>\n",
       "</pre>"
      ],
      "text/plain": [
       "<IPython.core.display.HTML object>"
      ]
     },
     "metadata": {},
     "output_type": "display_data"
    }
   ],
   "source": [
    "for i, (data, target) in logger.enum(\"Test\", test_loader):\n",
    "    time.sleep(0.01)"
   ]
  },
  {
   "cell_type": "markdown",
   "metadata": {},
   "source": [
    "### Loop\n",
    "\n",
    "This can be used for the training loop.\n",
    "The `loop` keeps track of the time taken and time remaining for the loop.\n",
    "You can use *sections*, *iterators* and *enumerators* within loop.\n",
    "\n",
    "`logger.write` outputs the current status along with global step."
   ]
  },
  {
   "cell_type": "code",
   "execution_count": 21,
   "metadata": {},
   "outputs": [
    {
     "data": {
      "text/html": [
       "<pre><strong><span style=\"color: #DDB62B\">     399:  </span></strong>  <span style=\"color: #208FFB\">1ms</span><span style=\"color: #D160C4\">  0:00m/  0:00m  </span></pre>"
      ],
      "text/plain": [
       "<IPython.core.display.HTML object>"
      ]
     },
     "metadata": {},
     "output_type": "display_data"
    }
   ],
   "source": [
    "for step in logger.loop(range(0, 400)):\n",
    "\tlogger.write()"
   ]
  },
  {
   "cell_type": "markdown",
   "metadata": {},
   "source": [
    "The global step is used for logging to the screen, TensorBoard and when logging analytics to SQLite. You can manually set the global step. Here we will reset it."
   ]
  },
  {
   "cell_type": "code",
   "execution_count": 22,
   "metadata": {},
   "outputs": [],
   "source": [
    "logger.set_global_step(0)"
   ]
  },
  {
   "cell_type": "markdown",
   "metadata": {},
   "source": [
    "You can manually increment global step too."
   ]
  },
  {
   "cell_type": "code",
   "execution_count": 23,
   "metadata": {},
   "outputs": [
    {
     "data": {
      "text/html": [
       "<pre><strong><span style=\"color: #DDB62B\">   2,000:  </span></strong>  <span style=\"color: #208FFB\">1ms</span><span style=\"color: #D160C4\">  0:00m/  0:00m  </span></pre>"
      ],
      "text/plain": [
       "<IPython.core.display.HTML object>"
      ]
     },
     "metadata": {},
     "output_type": "display_data"
    }
   ],
   "source": [
    "for step in logger.loop(range(0, 400)):\n",
    "    logger.add_global_step(5)\n",
    "    logger.write()"
   ]
  },
  {
   "cell_type": "markdown",
   "metadata": {},
   "source": [
    "### Log indicators\n",
    "\n",
    "Here you specify indicators and the logger stores them temporarily and write in batches.\n",
    "It can aggregate and write them as means or histograms."
   ]
  },
  {
   "cell_type": "code",
   "execution_count": 26,
   "metadata": {},
   "outputs": [],
   "source": [
    "import numpy as np\n",
    "\n",
    "# dummy train function\n",
    "def train():\n",
    "    return np.random.randint(100)\n",
    "\n",
    "# Reset global step because we incremented in previous loop\n",
    "logger.set_global_step(0)"
   ]
  },
  {
   "cell_type": "markdown",
   "metadata": {},
   "source": [
    "This stores all the loss values and writes the logs the mean on every tenth iteration.\n",
    "Console output line is replaced until `new_line` is called."
   ]
  },
  {
   "cell_type": "code",
   "execution_count": 27,
   "metadata": {},
   "outputs": [
    {
     "data": {
      "text/html": [
       "<pre><strong><span style=\"color: #DDB62B\">     100:  </span></strong> loss: <strong> 42.8000</strong>\n",
       "<strong><span style=\"color: #DDB62B\">     200:  </span></strong> loss: <strong> 39.0000</strong>\n",
       "<strong><span style=\"color: #DDB62B\">     300:  </span></strong> loss: <strong> 39.7000</strong>\n",
       "<strong><span style=\"color: #DDB62B\">     400:  </span></strong> loss: <strong> 53.6000</strong></pre>"
      ],
      "text/plain": [
       "<IPython.core.display.HTML object>"
      ]
     },
     "metadata": {},
     "output_type": "display_data"
    }
   ],
   "source": [
    "for i in range(1, 401):\n",
    "    logger.add_global_step()\n",
    "    loss = train()\n",
    "    logger.store(loss=loss)\n",
    "    if i % 10 == 0:\n",
    "        logger.write()\n",
    "    if i % 100 == 0:\n",
    "        logger.new_line()\n",
    "    time.sleep(0.02)"
   ]
  },
  {
   "cell_type": "markdown",
   "metadata": {},
   "source": [
    "#### Indicator settings"
   ]
  },
  {
   "cell_type": "code",
   "execution_count": 28,
   "metadata": {},
   "outputs": [],
   "source": [
    "from lab.logger.indicators import Queue, Scalar, Histogram\n",
    "\n",
    "# dummy train function\n",
    "def train2(idx):\n",
    "    return idx, 10, np.random.randint(100)\n",
    "\n",
    "# Reset global step because we incremented in previous loop\n",
    "logger.set_global_step(0)"
   ]
  },
  {
   "cell_type": "markdown",
   "metadata": {},
   "source": [
    "`Histogram` indicators will log a histogram of data.\n",
    "`Queue` will store data in a `deque` of size `queue_size`, and log histograms.\n",
    "Both of these will log the means too. And if `is_print` is `True` it will print the mean."
   ]
  },
  {
   "cell_type": "markdown",
   "metadata": {},
   "source": [
    "queue size of `10` and the values are printed to the console"
   ]
  },
  {
   "cell_type": "code",
   "execution_count": 29,
   "metadata": {},
   "outputs": [],
   "source": [
    "logger.add_indicator(Queue('reward', 10, True))"
   ]
  },
  {
   "cell_type": "markdown",
   "metadata": {},
   "source": [
    "By default values are not printed to console; i.e. `is_print` defaults to `False`."
   ]
  },
  {
   "cell_type": "code",
   "execution_count": 30,
   "metadata": {},
   "outputs": [],
   "source": [
    "logger.add_indicator(Scalar('policy'))"
   ]
  },
  {
   "cell_type": "markdown",
   "metadata": {},
   "source": [
    "Settings `is_print` to `True` will print the mean value of histogram to console"
   ]
  },
  {
   "cell_type": "code",
   "execution_count": 31,
   "metadata": {},
   "outputs": [],
   "source": [
    "logger.add_indicator(Histogram('value', True))"
   ]
  },
  {
   "cell_type": "code",
   "execution_count": 32,
   "metadata": {},
   "outputs": [
    {
     "data": {
      "text/html": [
       "<pre><strong><span style=\"color: #DDB62B\">     100:  </span></strong> loss: <strong> 1.00000</strong> reward: <strong> 95.5000</strong> value: <strong> 40.5000</strong>\n",
       "<strong><span style=\"color: #DDB62B\">     200:  </span></strong> loss: <strong> 1.00000</strong> reward: <strong> 195.500</strong> value: <strong> 53.4000</strong>\n",
       "<strong><span style=\"color: #DDB62B\">     300:  </span></strong> loss: <strong> 1.00000</strong> reward: <strong> 295.500</strong> value: <strong> 60.3000</strong>\n",
       "<strong><span style=\"color: #DDB62B\">     390:  </span></strong> loss: <strong> 1.00000</strong> reward: <strong> 385.500</strong> value: <strong> 45.0000</strong></pre>"
      ],
      "text/plain": [
       "<IPython.core.display.HTML object>"
      ]
     },
     "metadata": {},
     "output_type": "display_data"
    }
   ],
   "source": [
    "for i in range(1, 400):\n",
    "    logger.add_global_step()\n",
    "    reward, policy, value = train2(i)\n",
    "    logger.store(reward=reward, policy=policy, value=value, loss=1.)\n",
    "    if i % 10 == 0:\n",
    "        logger.write()\n",
    "    if i % 100 == 0:\n",
    "        logger.new_line()"
   ]
  },
  {
   "cell_type": "markdown",
   "metadata": {},
   "source": [
    "### Experiment\n",
    "\n",
    "Lab will keep track of experiments if you declare an Experiment. It will keep track of logs, code diffs, git commits, etc."
   ]
  },
  {
   "cell_type": "code",
   "execution_count": 33,
   "metadata": {},
   "outputs": [],
   "source": [
    "from lab.experiment.pytorch import Experiment"
   ]
  },
  {
   "cell_type": "markdown",
   "metadata": {},
   "source": [
    "The `name` of the defaults to the calling python filename. However when invoking from a Jupyter Notebook it must be provided because the library cannot find the calling file name. `comment` can be changed later from the [🎛 Dashboard](https://github.com/vpj/lab_dashboard)."
   ]
  },
  {
   "cell_type": "code",
   "execution_count": 34,
   "metadata": {},
   "outputs": [],
   "source": [
    "exp = Experiment(name=\"mnist_pytorch\",\n",
    "                 comment=\"Test\")"
   ]
  },
  {
   "cell_type": "markdown",
   "metadata": {},
   "source": [
    "Starting an experiments creates folders, stores the experiment meta data, git commits, and source diffs."
   ]
  },
  {
   "cell_type": "code",
   "execution_count": 35,
   "metadata": {},
   "outputs": [
    {
     "data": {
      "text/html": [
       "<pre><strong><span style=\"text-decoration: underline\">mnist_pytorch</span></strong>: <span style=\"color: #208FFB\">a4a7586664f411eab095acde48001122</span>\n",
       "\t<strong><span style=\"color: #DDB62B\">Test</span></strong>\n",
       "\t[dirty]: <strong><span style=\"color: #DDB62B\">\"Update readme.md\"</span></strong></pre>"
      ],
      "text/plain": [
       "<IPython.core.display.HTML object>"
      ]
     },
     "metadata": {},
     "output_type": "display_data"
    }
   ],
   "source": [
    "exp.start()"
   ]
  },
  {
   "cell_type": "markdown",
   "metadata": {},
   "source": [
    "You can also start from a previously saved checkpoint. A `run_uuid` of `` means that it will load from the last run.\n",
    "\n",
    "```python\n",
    "exp.start(run_uuid='')\n",
    "```"
   ]
  },
  {
   "cell_type": "markdown",
   "metadata": {},
   "source": [
    "### Configs"
   ]
  },
  {
   "cell_type": "code",
   "execution_count": 36,
   "metadata": {},
   "outputs": [],
   "source": [
    "from lab import configs"
   ]
  },
  {
   "cell_type": "markdown",
   "metadata": {},
   "source": [
    "The configs will be stored and in future be adjusted from  [🎛 Dashboard](https://github.com/vpj/lab_dashboard)"
   ]
  },
  {
   "cell_type": "code",
   "execution_count": 37,
   "metadata": {},
   "outputs": [],
   "source": [
    "class DeviceConfigs(configs.Configs):\n",
    "    use_cuda: bool = True\n",
    "    cuda_device: int = 0\n",
    "\n",
    "    device: any"
   ]
  },
  {
   "cell_type": "markdown",
   "metadata": {},
   "source": [
    "Some configs can be calculated"
   ]
  },
  {
   "cell_type": "code",
   "execution_count": 38,
   "metadata": {},
   "outputs": [],
   "source": [
    "import torch"
   ]
  },
  {
   "cell_type": "code",
   "execution_count": 39,
   "metadata": {},
   "outputs": [],
   "source": [
    "@DeviceConfigs.calc(DeviceConfigs.device)\n",
    "def cuda(c: DeviceConfigs):\n",
    "    is_cuda = c.use_cuda and torch.cuda.is_available()\n",
    "    if not is_cuda:\n",
    "        return torch.device(\"cpu\")\n",
    "    else:\n",
    "        if c.cuda_device < torch.cuda.device_count():\n",
    "            return torch.device(f\"cuda:{c.cuda_device}\")\n",
    "        else:\n",
    "            logger.log(f\"Cuda device index {c.cuda_device} higher than \"\n",
    "                       f\"device count {torch.cuda.device_count()}\", Text.warning)\n",
    "            return torch.device(f\"cuda:{torch.cuda.device_count() - 1}\")"
   ]
  },
  {
   "cell_type": "markdown",
   "metadata": {},
   "source": [
    "Configs classes can be inherited. This can be used to separate configs into module and it is quite neat when you want to inherit entire experiment setups and make a few modifications. "
   ]
  },
  {
   "cell_type": "code",
   "execution_count": 41,
   "metadata": {},
   "outputs": [],
   "source": [
    "class Configs(DeviceConfigs):\n",
    "    model_size: int = 10\n",
    "        \n",
    "    model: any = 'cnn_model'"
   ]
  },
  {
   "cell_type": "markdown",
   "metadata": {},
   "source": [
    "You can specify multiple config calculator functions. The function given by the string for respective attribute will be picked."
   ]
  },
  {
   "cell_type": "code",
   "execution_count": 42,
   "metadata": {},
   "outputs": [],
   "source": [
    "@Configs.calc(Configs.model)\n",
    "def cnn_model(c: Configs):\n",
    "    return c.model_size * 10\n",
    "\n",
    "@Configs.calc(Configs.model)\n",
    "def lstm_model(c: Configs):\n",
    "    return c.model_size * 2"
   ]
  },
  {
   "cell_type": "markdown",
   "metadata": {},
   "source": [
    "The experiment will calculate the configs."
   ]
  },
  {
   "cell_type": "code",
   "execution_count": 43,
   "metadata": {},
   "outputs": [
    {
     "data": {
      "text/html": [
       "<pre>                                                                                                    \n",
       "<span style=\"color: #60C6C8\">model: </span><strong>20</strong></pre>"
      ],
      "text/plain": [
       "<IPython.core.display.HTML object>"
      ]
     },
     "metadata": {},
     "output_type": "display_data"
    }
   ],
   "source": [
    "conf = Configs()\n",
    "conf.model = 'lstm_model'\n",
    "experiment = Experiment(name='test_configs')\n",
    "experiment.calc_configs(conf)\n",
    "logger.info(model=conf.model)"
   ]
  }
 ],
 "metadata": {
  "kernelspec": {
   "display_name": "dl3",
   "language": "python",
   "name": "dl3"
  },
  "language_info": {
   "codemirror_mode": {
    "name": "ipython",
    "version": 3
   },
   "file_extension": ".py",
   "mimetype": "text/x-python",
   "name": "python",
   "nbconvert_exporter": "python",
   "pygments_lexer": "ipython3",
   "version": "3.7.5"
  },
  "pycharm": {
   "stem_cell": {
    "cell_type": "raw",
    "metadata": {
     "collapsed": false
    },
    "source": []
   }
  }
 },
 "nbformat": 4,
 "nbformat_minor": 2
}
