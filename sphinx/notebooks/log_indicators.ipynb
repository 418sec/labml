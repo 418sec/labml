{
 "cells": [
  {
   "cell_type": "markdown",
   "metadata": {},
   "source": [
    "# Log indicators\n",
    "\n",
    "Here you specify indicators and the logger stores them temporarily and write in batches.\n",
    "It can aggregate and write them as means or histograms."
   ]
  },
  {
   "cell_type": "code",
   "execution_count": 1,
   "metadata": {},
   "outputs": [],
   "source": [
    "import time\n",
    "\n",
    "import numpy as np\n",
    "\n",
    "from lab import logger\n",
    "\n",
    "# dummy train function\n",
    "def train():\n",
    "    return np.random.randint(100)\n",
    "\n",
    "# Reset global step because we incremented in previous loop\n",
    "logger.set_global_step(0)"
   ]
  },
  {
   "cell_type": "markdown",
   "metadata": {},
   "source": [
    "This stores all the loss values and writes the logs the mean on every tenth iteration.\n",
    "Console output line is replaced until `new_line` is called."
   ]
  },
  {
   "cell_type": "code",
   "execution_count": 2,
   "metadata": {},
   "outputs": [
    {
     "data": {
      "text/html": [
       "<pre><strong><span style=\"color: #DDB62B\">     100:  </span></strong> loss: <strong> 47.9000</strong>\n",
       "<strong><span style=\"color: #DDB62B\">     200:  </span></strong> loss: <strong> 60.7000</strong>\n",
       "<strong><span style=\"color: #DDB62B\">     300:  </span></strong> loss: <strong> 56.8000</strong>\n",
       "<strong><span style=\"color: #DDB62B\">     400:  </span></strong> loss: <strong> 41.5000</strong></pre>"
      ],
      "text/plain": [
       "<IPython.core.display.HTML object>"
      ]
     },
     "metadata": {},
     "output_type": "display_data"
    }
   ],
   "source": [
    "for i in range(1, 401):\n",
    "    logger.add_global_step()\n",
    "    loss = train()\n",
    "    logger.store(loss=loss)\n",
    "    if i % 10 == 0:\n",
    "        logger.write()\n",
    "    if i % 100 == 0:\n",
    "        logger.new_line()\n",
    "    time.sleep(0.02)"
   ]
  },
  {
   "cell_type": "markdown",
   "metadata": {},
   "source": [
    "## Indicator settings"
   ]
  },
  {
   "cell_type": "code",
   "execution_count": 3,
   "metadata": {},
   "outputs": [],
   "source": [
    "from lab.logger.indicators import Queue, Scalar, Histogram\n",
    "\n",
    "# dummy train function\n",
    "def train2(idx):\n",
    "    return idx, 10, np.random.randint(100)\n",
    "\n",
    "# Reset global step because we incremented in previous loop\n",
    "logger.set_global_step(0)"
   ]
  },
  {
   "cell_type": "markdown",
   "metadata": {},
   "source": [
    "`Histogram` indicators will log a histogram of data.\n",
    "`Queue` will store data in a `deque` of size `queue_size`, and log histograms.\n",
    "Both of these will log the means too. And if `is_print` is `True` it will print the mean."
   ]
  },
  {
   "cell_type": "markdown",
   "metadata": {},
   "source": [
    "queue size of `10` and the values are printed to the console"
   ]
  },
  {
   "cell_type": "code",
   "execution_count": 4,
   "metadata": {},
   "outputs": [],
   "source": [
    "logger.add_indicator(Queue('reward', 10, True))"
   ]
  },
  {
   "cell_type": "markdown",
   "metadata": {},
   "source": [
    "By default values are not printed to console; i.e. `is_print` defaults to `False`."
   ]
  },
  {
   "cell_type": "code",
   "execution_count": 5,
   "metadata": {},
   "outputs": [],
   "source": [
    "logger.add_indicator(Scalar('policy'))"
   ]
  },
  {
   "cell_type": "markdown",
   "metadata": {},
   "source": [
    "Settings `is_print` to `True` will print the mean value of histogram to console"
   ]
  },
  {
   "cell_type": "code",
   "execution_count": 6,
   "metadata": {},
   "outputs": [],
   "source": [
    "logger.add_indicator(Histogram('value', True))"
   ]
  },
  {
   "cell_type": "code",
   "execution_count": 7,
   "metadata": {},
   "outputs": [
    {
     "data": {
      "text/html": [
       "<pre><strong><span style=\"color: #DDB62B\">     100:  </span></strong> loss: <strong> 1.00000</strong> reward: <strong> 95.5000</strong> value: <strong> 35.6000</strong>\n",
       "<strong><span style=\"color: #DDB62B\">     200:  </span></strong> loss: <strong> 1.00000</strong> reward: <strong> 195.500</strong> value: <strong> 50.4000</strong>\n",
       "<strong><span style=\"color: #DDB62B\">     300:  </span></strong> loss: <strong> 1.00000</strong> reward: <strong> 295.500</strong> value: <strong> 43.9000</strong>\n",
       "<strong><span style=\"color: #DDB62B\">     390:  </span></strong> loss: <strong> 1.00000</strong> reward: <strong> 385.500</strong> value: <strong> 63.7000</strong></pre>"
      ],
      "text/plain": [
       "<IPython.core.display.HTML object>"
      ]
     },
     "metadata": {},
     "output_type": "display_data"
    }
   ],
   "source": [
    "for i in range(1, 400):\n",
    "    logger.add_global_step()\n",
    "    reward, policy, value = train2(i)\n",
    "    logger.store(reward=reward, policy=policy, value=value, loss=1.)\n",
    "    if i % 10 == 0:\n",
    "        logger.write()\n",
    "    if i % 100 == 0:\n",
    "        logger.new_line()"
   ]
  }
 ],
 "metadata": {
  "kernelspec": {
   "display_name": "dl3",
   "language": "python",
   "name": "dl3"
  },
  "language_info": {
   "codemirror_mode": {
    "name": "ipython",
    "version": 3
   },
   "file_extension": ".py",
   "mimetype": "text/x-python",
   "name": "python",
   "nbconvert_exporter": "python",
   "pygments_lexer": "ipython3",
   "version": "3.7.5"
  },
  "pycharm": {
   "stem_cell": {
    "cell_type": "raw",
    "metadata": {
     "collapsed": false
    },
    "source": []
   }
  }
 },
 "nbformat": 4,
 "nbformat_minor": 2
}
