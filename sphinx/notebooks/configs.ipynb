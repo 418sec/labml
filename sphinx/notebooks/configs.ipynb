{
 "cells": [
  {
   "cell_type": "markdown",
   "metadata": {},
   "source": [
    "# Configs\n",
    "\n",
    "`.. currentmodule:: lab.configs`"
   ]
  },
  {
   "cell_type": "code",
   "execution_count": 1,
   "metadata": {},
   "outputs": [],
   "source": [
    "import torch\n",
    "\n",
    "from lab import tracker, monit, loop, experiment, logger\n",
    "from lab.configs import BaseConfigs"
   ]
  },
  {
   "cell_type": "markdown",
   "metadata": {},
   "source": [
    "The configs will be stored and in future be adjusted from  [Dashboard](https://github.com/vpj/lab_dashboard)"
   ]
  },
  {
   "cell_type": "code",
   "execution_count": 2,
   "metadata": {},
   "outputs": [],
   "source": [
    "class DeviceConfigs(BaseConfigs):\n",
    "    use_cuda: bool = True\n",
    "    cuda_device: int = 0\n",
    "\n",
    "    device: any"
   ]
  },
  {
   "cell_type": "markdown",
   "metadata": {},
   "source": [
    "Some configs can be calculated"
   ]
  },
  {
   "cell_type": "code",
   "execution_count": 3,
   "metadata": {},
   "outputs": [],
   "source": [
    "@DeviceConfigs.calc(DeviceConfigs.device)\n",
    "def cuda(c: DeviceConfigs):\n",
    "    is_cuda = c.use_cuda and torch.cuda.is_available()\n",
    "    if not is_cuda:\n",
    "        return torch.device(\"cpu\")\n",
    "    else:\n",
    "        if c.cuda_device < torch.cuda.device_count():\n",
    "            return torch.device(f\"cuda:{c.cuda_device}\")\n",
    "        else:\n",
    "            logger.log(f\"Cuda device index {c.cuda_device} higher than \"\n",
    "                       f\"device count {torch.cuda.device_count()}\", Text.warning)\n",
    "            return torch.device(f\"cuda:{torch.cuda.device_count() - 1}\")"
   ]
  },
  {
   "cell_type": "markdown",
   "metadata": {},
   "source": [
    "Configs classes can be inherited. This can be used to separate configs into module and it is quite neat when you want to inherit entire experiment setups and make a few modifications. "
   ]
  },
  {
   "cell_type": "code",
   "execution_count": 4,
   "metadata": {},
   "outputs": [],
   "source": [
    "class Configs(DeviceConfigs):\n",
    "    model_size: int = 10\n",
    "        \n",
    "    model: any = 'cnn_model'"
   ]
  },
  {
   "cell_type": "markdown",
   "metadata": {},
   "source": [
    "You can specify multiple config calculator functions. The function given by the string for respective attribute will be picked."
   ]
  },
  {
   "cell_type": "code",
   "execution_count": 5,
   "metadata": {},
   "outputs": [],
   "source": [
    "@Configs.calc(Configs.model)\n",
    "def cnn_model(c: Configs):\n",
    "    return c.model_size * 10\n",
    "\n",
    "@Configs.calc(Configs.model)\n",
    "def lstm_model(c: Configs):\n",
    "    return c.model_size * 2"
   ]
  },
  {
   "cell_type": "markdown",
   "metadata": {},
   "source": [
    "The experiment will calculate the configs."
   ]
  },
  {
   "cell_type": "code",
   "execution_count": 6,
   "metadata": {
    "scrolled": true
   },
   "outputs": [
    {
     "data": {
      "text/html": [
       "<pre>                                                                                                    \n",
       "<span style=\"color: #60C6C8\">model: </span><strong>20</strong></pre>"
      ],
      "text/plain": [
       "<IPython.core.display.HTML object>"
      ]
     },
     "metadata": {},
     "output_type": "display_data"
    }
   ],
   "source": [
    "conf = Configs()\n",
    "conf.model = 'lstm_model'\n",
    "experiment.create(name='test_configs')\n",
    "experiment.calculate_configs(conf)\n",
    "logger.inspect(model=conf.model)"
   ]
  },
  {
   "cell_type": "code",
   "execution_count": 7,
   "metadata": {},
   "outputs": [
    {
     "data": {
      "text/html": [
       "<pre>\n",
       "<strong><span style=\"text-decoration: underline\">test_configs</span></strong>: <span style=\"color: #208FFB\">f7dce148895e11ea944cacde48001122</span>\n",
       "\t[dirty]: <strong><span style=\"color: #DDB62B\">\"lint fixed\"</span></strong>\n",
       "<span style=\"text-decoration: underline\">Configs:</span>\n",
       "\t<span style=\"color: #60C6C8\">cuda_device</span><span style=\"color: #C5C1B4\"> = </span><strong>0</strong>\t\n",
       "\t<span style=\"color: #60C6C8\">device</span><span style=\"color: #C5C1B4\"> = </span><strong>cpu</strong>\t<span style=\"color: #C5C1B4\">cuda</span>\n",
       "\t<span style=\"color: #60C6C8\"><strong><span style=\"color: #DDB62B\">model</span></strong></span><span style=\"color: #C5C1B4\"> = </span><strong>20</strong>\tlstm_model<span style=\"color: #C5C1B4\">\t[</span>cnn_model<span style=\"color: #C5C1B4\">]</span>\n",
       "\t<span style=\"color: #60C6C8\">model_size</span><span style=\"color: #C5C1B4\"> = </span><strong>10</strong>\t\n",
       "\t<span style=\"color: #60C6C8\">use_cuda</span><span style=\"color: #C5C1B4\"> = </span><strong>True</strong>\t\n",
       "</pre>"
      ],
      "text/plain": [
       "<IPython.core.display.HTML object>"
      ]
     },
     "metadata": {},
     "output_type": "display_data"
    }
   ],
   "source": [
    "experiment.start()"
   ]
  },
  {
   "cell_type": "code",
   "execution_count": null,
   "metadata": {},
   "outputs": [],
   "source": []
  }
 ],
 "metadata": {
  "kernelspec": {
   "display_name": "Python 3",
   "language": "python",
   "name": "python3"
  },
  "language_info": {
   "codemirror_mode": {
    "name": "ipython",
    "version": 3
   },
   "file_extension": ".py",
   "mimetype": "text/x-python",
   "name": "python",
   "nbconvert_exporter": "python",
   "pygments_lexer": "ipython3",
   "version": "3.7.3"
  },
  "pycharm": {
   "stem_cell": {
    "cell_type": "raw",
    "metadata": {
     "collapsed": false
    },
    "source": []
   }
  }
 },
 "nbformat": 4,
 "nbformat_minor": 2
}
